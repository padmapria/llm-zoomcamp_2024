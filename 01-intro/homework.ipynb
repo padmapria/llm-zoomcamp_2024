{
 "cells": [
  {
   "cell_type": "markdown",
   "id": "778353dd",
   "metadata": {},
   "source": [
    "### Install libraries"
   ]
  },
  {
   "cell_type": "code",
   "execution_count": 1,
   "id": "c3f6a03b",
   "metadata": {
    "ExecuteTime": {
     "end_time": "2024-07-01T16:38:55.109596Z",
     "start_time": "2024-07-01T16:38:45.321929Z"
    }
   },
   "outputs": [
    {
     "name": "stdout",
     "output_type": "stream",
     "text": [
      "Requirement already satisfied: elasticsearch==8.4.3 in c:\\users\\padma\\anaconda3\\envs\\llama\\lib\\site-packages (8.4.3)\n",
      "Requirement already satisfied: elastic-transport<9,>=8 in c:\\users\\padma\\anaconda3\\envs\\llama\\lib\\site-packages (from elasticsearch==8.4.3) (8.13.1)\n",
      "Requirement already satisfied: urllib3<3,>=1.26.2 in c:\\users\\padma\\anaconda3\\envs\\llama\\lib\\site-packages (from elastic-transport<9,>=8->elasticsearch==8.4.3) (2.2.1)\n",
      "Requirement already satisfied: certifi in c:\\users\\padma\\anaconda3\\envs\\llama\\lib\\site-packages (from elastic-transport<9,>=8->elasticsearch==8.4.3) (2024.6.2)\n",
      "Requirement already satisfied: requests in c:\\users\\padma\\anaconda3\\envs\\llama\\lib\\site-packages (2.32.2)\n",
      "Requirement already satisfied: charset-normalizer<4,>=2 in c:\\users\\padma\\anaconda3\\envs\\llama\\lib\\site-packages (from requests) (3.3.2)\n",
      "Requirement already satisfied: idna<4,>=2.5 in c:\\users\\padma\\anaconda3\\envs\\llama\\lib\\site-packages (from requests) (3.7)\n",
      "Requirement already satisfied: urllib3<3,>=1.21.1 in c:\\users\\padma\\anaconda3\\envs\\llama\\lib\\site-packages (from requests) (2.2.1)\n",
      "Requirement already satisfied: certifi>=2017.4.17 in c:\\users\\padma\\anaconda3\\envs\\llama\\lib\\site-packages (from requests) (2024.6.2)\n",
      "Requirement already satisfied: tqdm==4.66.4 in c:\\users\\padma\\anaconda3\\envs\\llama\\lib\\site-packages (4.66.4)\n",
      "Requirement already satisfied: colorama in c:\\users\\padma\\anaconda3\\envs\\llama\\lib\\site-packages (from tqdm==4.66.4) (0.4.6)\n"
     ]
    }
   ],
   "source": [
    "!pip install elasticsearch==8.4.3\n",
    "!pip install requests\n",
    "!pip install tqdm==4.66.4"
   ]
  },
  {
   "cell_type": "markdown",
   "id": "74777b18",
   "metadata": {},
   "source": [
    "## Connect to elasticsearch"
   ]
  },
  {
   "cell_type": "code",
   "execution_count": 2,
   "id": "17179a83",
   "metadata": {
    "ExecuteTime": {
     "end_time": "2024-07-01T16:38:59.690720Z",
     "start_time": "2024-07-01T16:38:58.620529Z"
    }
   },
   "outputs": [
    {
     "name": "stdout",
     "output_type": "stream",
     "text": [
      "Connected to Elasticsearch\n"
     ]
    },
    {
     "data": {
      "text/plain": [
       "ObjectApiResponse({'name': 'bee69b10ca04', 'cluster_name': 'docker-cluster', 'cluster_uuid': 'igl-mFEfSEmOi0_-SS2pIg', 'version': {'number': '8.4.3', 'build_flavor': 'default', 'build_type': 'docker', 'build_hash': '42f05b9372a9a4a470db3b52817899b99a76ee73', 'build_date': '2022-10-04T07:17:24.662462378Z', 'build_snapshot': False, 'lucene_version': '9.3.0', 'minimum_wire_compatibility_version': '7.17.0', 'minimum_index_compatibility_version': '7.0.0'}, 'tagline': 'You Know, for Search'})"
      ]
     },
     "execution_count": 2,
     "metadata": {},
     "output_type": "execute_result"
    }
   ],
   "source": [
    "from elasticsearch import Elasticsearch\n",
    "\n",
    "def connect_to_es():\n",
    "    for _ in range(10):  # Retry up to 10 times\n",
    "        try:\n",
    "            es = Elasticsearch(\"http://localhost:9200\", basic_auth=('elastic', 'DkIedPPSCb'))\n",
    "            if es.ping():\n",
    "                print(\"Connected to Elasticsearch\")\n",
    "                return es\n",
    "        except Exception as e:\n",
    "            print(f\"Connection failed, retrying... ({e})\")\n",
    "            time.sleep(10)\n",
    "    raise Exception(\"Failed to connect to Elasticsearch after several retries\")\n",
    "    \n",
    "es = connect_to_es()\n",
    "# Get cluster information\n",
    "cluster_info = es.info()\n",
    "\n",
    "# Display cluster information\n",
    "cluster_info"
   ]
  },
  {
   "cell_type": "markdown",
   "id": "78b0009a",
   "metadata": {},
   "source": [
    "## Download data to insert to elasticsearch"
   ]
  },
  {
   "cell_type": "code",
   "execution_count": 3,
   "id": "89af77f9",
   "metadata": {
    "ExecuteTime": {
     "end_time": "2024-07-01T16:39:02.101579Z",
     "start_time": "2024-07-01T16:39:00.930085Z"
    }
   },
   "outputs": [],
   "source": [
    "import requests \n",
    "\n",
    "def prepare_document(docs_url):\n",
    "    docs_response = requests.get(docs_url)\n",
    "    documents_raw = docs_response.json()\n",
    "\n",
    "    documents = []\n",
    "\n",
    "    for course in documents_raw:\n",
    "        course_name = course['course']\n",
    "\n",
    "        for doc in course['documents']:\n",
    "            doc['course'] = course_name\n",
    "            documents.append(doc)\n",
    "            \n",
    "    return documents\n",
    "\n",
    "docs_url = 'https://github.com/DataTalksClub/llm-zoomcamp/blob/main/01-intro/documents.json?raw=1'\n",
    "documents = prepare_document(docs_url)"
   ]
  },
  {
   "cell_type": "markdown",
   "id": "14622400",
   "metadata": {},
   "source": [
    "## Create index in elasticsearch"
   ]
  },
  {
   "cell_type": "code",
   "execution_count": 4,
   "id": "99d48093",
   "metadata": {
    "ExecuteTime": {
     "end_time": "2024-07-01T16:39:22.209284Z",
     "start_time": "2024-07-01T16:39:03.628675Z"
    }
   },
   "outputs": [
    {
     "name": "stderr",
     "output_type": "stream",
     "text": [
      "C:\\Users\\padma\\AppData\\Local\\Temp\\ipykernel_41536\\451959808.py:21: DeprecationWarning: The 'body' parameter is deprecated and will be removed in a future version. Instead use individual parameters.\n",
      "  es.indices.create(index=index_name, body=index_settings)\n"
     ]
    },
    {
     "name": "stdout",
     "output_type": "stream",
     "text": [
      "Index created\n"
     ]
    },
    {
     "data": {
      "application/vnd.jupyter.widget-view+json": {
       "model_id": "f40afadd41ba4b25a7c5c04e61fc5c3a",
       "version_major": 2,
       "version_minor": 0
      },
      "text/plain": [
       "  0%|          | 0/948 [00:00<?, ?it/s]"
      ]
     },
     "metadata": {},
     "output_type": "display_data"
    }
   ],
   "source": [
    "from tqdm.auto import tqdm\n",
    "def create_index(documents):    \n",
    "    index_settings = {\n",
    "        \"settings\": {\n",
    "            \"number_of_shards\": 1,\n",
    "            \"number_of_replicas\": 0\n",
    "        },\n",
    "        \"mappings\": {\n",
    "            \"properties\": {\n",
    "                \"text\": {\"type\": \"text\"},\n",
    "                \"section\": {\"type\": \"text\"},\n",
    "                \"question\": {\"type\": \"text\"},\n",
    "                \"course\": {\"type\": \"keyword\"} \n",
    "            }\n",
    "        }\n",
    "    }\n",
    "\n",
    "    index_name = \"course-questions\"\n",
    "\n",
    "    if not es.indices.exists(index=index_name):\n",
    "        es.indices.create(index=index_name, body=index_settings)\n",
    "        print(\"Index created\")\n",
    "    else:\n",
    "        print(\"Index already exists\")\n",
    "        \n",
    "    for doc in tqdm(documents):\n",
    "        doc_id = doc['course']\n",
    "        es.index(index=index_name, document=doc)\n",
    "    \n",
    "create_index(documents)"
   ]
  },
  {
   "cell_type": "markdown",
   "id": "c5a4c261",
   "metadata": {
    "ExecuteTime": {
     "end_time": "2024-07-01T17:25:05.402688Z",
     "start_time": "2024-07-01T17:25:05.393155Z"
    }
   },
   "source": [
    " ### Q3 Searching"
   ]
  },
  {
   "cell_type": "code",
   "execution_count": 15,
   "id": "52da0dd9",
   "metadata": {
    "ExecuteTime": {
     "end_time": "2024-07-01T16:53:21.473852Z",
     "start_time": "2024-07-01T16:53:21.414211Z"
    }
   },
   "outputs": [
    {
     "name": "stdout",
     "output_type": "stream",
     "text": [
      "Connected to Elasticsearch\n",
      "Score: 84.050095\n",
      "How do I debug a docker container?\n",
      "Score: 75.54128\n",
      "PGCLI - running in a Docker container\n",
      "Score: 72.08518\n",
      "Running multiple services in a Docker container\n"
     ]
    },
    {
     "name": "stderr",
     "output_type": "stream",
     "text": [
      "C:\\Users\\padma\\AppData\\Local\\Temp\\ipykernel_41536\\2547520554.py:19: DeprecationWarning: The 'body' parameter is deprecated and will be removed in a future version. Instead use individual parameters.\n",
      "  response = es.search(index=index_name, body=search_query)\n"
     ]
    }
   ],
   "source": [
    "def retrieve_score(query, index_name, max_results=3):\n",
    "    es = connect_to_es()\n",
    "    search_query = {\n",
    "        \"size\": max_results,\n",
    "        \"query\": {\n",
    "            \"bool\": {\n",
    "                \"must\": [\n",
    "                    {\n",
    "                        \"multi_match\": {\n",
    "                            \"query\": query,\n",
    "                            \"fields\": [\"question^4\", \"text\"],\n",
    "                            \"type\": \"best_fields\"\n",
    "                        }\n",
    "                    }\n",
    "                ]\n",
    "            }\n",
    "        }\n",
    "    }\n",
    "    response = es.search(index=index_name, body=search_query)\n",
    "    result_docs = [{\"score\": hit['_score'], \"source\": hit['_source']} for hit in response['hits']['hits']]\n",
    "    return result_docs\n",
    "\n",
    "\n",
    "index_name = \"course-questions\"\n",
    "query = \"How do I execute a command in a running docker container?\"\n",
    "result_docs = retrieve_score(query, index_name, max_results=3)\n",
    "\n",
    "for doc in result_docs:\n",
    "    print(f\"Score: {doc['score']}\")\n",
    "    print(doc['source']['question'])"
   ]
  },
  {
   "cell_type": "markdown",
   "id": "18915e14",
   "metadata": {},
   "source": [
    " ### Filtering"
   ]
  },
  {
   "cell_type": "code",
   "execution_count": 16,
   "id": "e5756554",
   "metadata": {
    "ExecuteTime": {
     "end_time": "2024-07-01T16:53:25.935669Z",
     "start_time": "2024-07-01T16:53:25.868898Z"
    }
   },
   "outputs": [
    {
     "name": "stdout",
     "output_type": "stream",
     "text": [
      "Connected to Elasticsearch\n",
      "[{'score': 84.050095, 'question': 'How do I debug a docker container?', 'text': 'Launch the container image in interactive mode and overriding the entrypoint, so that it starts a bash command.\\ndocker run -it --entrypoint bash <image>\\nIf the container is already running, execute a command in the specific container:\\ndocker ps (find the container-id)\\ndocker exec -it <container-id> bash\\n(Marcos MJD)'}, {'score': 51.04628, 'question': 'How do I copy files from my local machine to docker container?', 'text': \"You can copy files from your local machine into a Docker container using the docker cp command. Here's how to do it:\\nTo copy a file or directory from your local machine into a running Docker container, you can use the `docker cp command`. The basic syntax is as follows:\\ndocker cp /path/to/local/file_or_directory container_id:/path/in/container\\nHrithik Kumar Advani\"}, {'score': 49.938507, 'question': 'How do I copy files from a different folder into docker container’s working directory?', 'text': 'You can copy files from your local machine into a Docker container using the docker cp command. Here\\'s how to do it:\\nIn the Dockerfile, you can provide the folder containing the files that you want to copy over. The basic syntax is as follows:\\nCOPY [\"src/predict.py\", \"models/xgb_model.bin\", \"./\"]\\t\\t\\t\\t\\t\\t\\t\\t\\t\\t\\tGopakumar Gopinathan'}]\n",
      "Top question: How do I copy files from a different folder into docker container’s working directory?\n"
     ]
    },
    {
     "name": "stderr",
     "output_type": "stream",
     "text": [
      "C:\\Users\\padma\\AppData\\Local\\Temp\\ipykernel_41536\\3388568269.py:26: DeprecationWarning: The 'body' parameter is deprecated and will be removed in a future version. Instead use individual parameters.\n",
      "  response = es.search(index=index_name, body=search_query)\n"
     ]
    }
   ],
   "source": [
    "def filter_documents(query, index_name, max_results=3):\n",
    "    es = connect_to_es()\n",
    "    search_query = {\n",
    "        \"size\": max_results,\n",
    "        \"query\": {\n",
    "            \"bool\": {\n",
    "                \"must\": [\n",
    "                    {\n",
    "                        \"multi_match\": {\n",
    "                            \"query\": query,\n",
    "                            \"fields\": [\"question^4\", \"text\"],\n",
    "                            \"type\": \"best_fields\"\n",
    "                        }\n",
    "                    }\n",
    "                ],\n",
    "                \"filter\": [\n",
    "                    {\n",
    "                        \"term\": {\n",
    "                            \"course\": \"machine-learning-zoomcamp\"\n",
    "                        }\n",
    "                    }\n",
    "                ]\n",
    "            }\n",
    "        }\n",
    "    }\n",
    "    response = es.search(index=index_name, body=search_query)\n",
    "    result_docs = [{\"score\": hit['_score'], \"question\": hit['_source']['question'], \"text\": hit['_source']['text']} for hit in response['hits']['hits']]\n",
    "    return result_docs\n",
    "\n",
    "index_name = \"course-questions\"\n",
    "query = \"How do I execute a command in a running docker container?\"\n",
    "res = filter_documents(query, index_name, max_results=3)\n",
    "\n",
    "print(res)\n",
    "if len(res) >= 2:\n",
    "    top_quest = res[2]['question']\n",
    "    print(f\"Top question: {top_quest}\")\n",
    "else:\n",
    "    print(\"No results found.\")"
   ]
  },
  {
   "cell_type": "markdown",
   "id": "69e0b38e",
   "metadata": {},
   "source": [
    "## Q5. Building a prompt"
   ]
  },
  {
   "cell_type": "code",
   "execution_count": 26,
   "id": "8cc5784e-6515-42e5-be62-8fb915df1088",
   "metadata": {
    "ExecuteTime": {
     "end_time": "2024-07-01T16:58:07.389830Z",
     "start_time": "2024-07-01T16:58:07.375876Z"
    }
   },
   "outputs": [],
   "source": [
    "def build_prompt_new(query, search_results):\n",
    "    prompt_template = \"\"\"\n",
    "You're a course teaching assistant. Answer the QUESTION based on the CONTEXT from the FAQ database.\n",
    "Use only the facts from the CONTEXT when answering the QUESTION.\n",
    "\n",
    "QUESTION: {question}\n",
    "\n",
    "CONTEXT: \n",
    "{context}\n",
    "\"\"\".strip()\n",
    "\n",
    "    context = \"\"\n",
    "    \n",
    "    for doc in search_results:\n",
    "        context = context + f\"Q: {doc['question']}\\nA: {doc['text']}\\n\\n\"\n",
    "    \n",
    "    prompt = prompt_template.format(question=query, context=context).strip()\n",
    "    return prompt"
   ]
  },
  {
   "cell_type": "code",
   "execution_count": 34,
   "id": "38e653b6",
   "metadata": {
    "ExecuteTime": {
     "end_time": "2024-07-01T17:15:05.324555Z",
     "start_time": "2024-07-01T17:15:05.253795Z"
    }
   },
   "outputs": [
    {
     "name": "stdout",
     "output_type": "stream",
     "text": [
      "Connected to Elasticsearch\n",
      "You're a course teaching assistant. Answer the QUESTION based on the CONTEXT from the FAQ database.\n",
      "Use only the facts from the CONTEXT when answering the QUESTION.\n",
      "\n",
      "QUESTION: How do I execute a command in a running docker container?\n",
      "\n",
      "CONTEXT: \n",
      "Q: How do I debug a docker container?\n",
      "A: Launch the container image in interactive mode and overriding the entrypoint, so that it starts a bash command.\n",
      "docker run -it --entrypoint bash <image>\n",
      "If the container is already running, execute a command in the specific container:\n",
      "docker ps (find the container-id)\n",
      "docker exec -it <container-id> bash\n",
      "(Marcos MJD)\n",
      "\n",
      "Q: How do I copy files from my local machine to docker container?\n",
      "A: You can copy files from your local machine into a Docker container using the docker cp command. Here's how to do it:\n",
      "To copy a file or directory from your local machine into a running Docker container, you can use the `docker cp command`. The basic syntax is as follows:\n",
      "docker cp /path/to/local/file_or_directory container_id:/path/in/container\n",
      "Hrithik Kumar Advani\n",
      "\n",
      "Q: How do I copy files from a different folder into docker container’s working directory?\n",
      "A: You can copy files from your local machine into a Docker container using the docker cp command. Here's how to do it:\n",
      "In the Dockerfile, you can provide the folder containing the files that you want to copy over. The basic syntax is as follows:\n",
      "COPY [\"src/predict.py\", \"models/xgb_model.bin\", \"./\"]\t\t\t\t\t\t\t\t\t\t\tGopakumar Gopinathan\n"
     ]
    },
    {
     "name": "stderr",
     "output_type": "stream",
     "text": [
      "C:\\Users\\padma\\AppData\\Local\\Temp\\ipykernel_41536\\3388568269.py:26: DeprecationWarning: The 'body' parameter is deprecated and will be removed in a future version. Instead use individual parameters.\n",
      "  response = es.search(index=index_name, body=search_query)\n"
     ]
    },
    {
     "data": {
      "text/plain": [
       "1463"
      ]
     },
     "execution_count": 34,
     "metadata": {},
     "output_type": "execute_result"
    }
   ],
   "source": [
    "query = \"How do I execute a command in a running docker container?\"\n",
    "search_results = retrieve_documents(query, index_name, max_results=3)\n",
    "res = build_prompt_new(query,search_results)\n",
    "print(res)\n",
    "len(res)"
   ]
  },
  {
   "cell_type": "markdown",
   "id": "a2b06d79",
   "metadata": {},
   "source": [
    "## Q6. Tokens"
   ]
  },
  {
   "cell_type": "code",
   "execution_count": 30,
   "id": "0ea9315a-a619-4066-9e90-8c260f2c8450",
   "metadata": {
    "ExecuteTime": {
     "end_time": "2024-07-01T17:11:17.969049Z",
     "start_time": "2024-07-01T17:11:14.707977Z"
    }
   },
   "outputs": [
    {
     "name": "stdout",
     "output_type": "stream",
     "text": [
      "Requirement already satisfied: tiktoken in c:\\users\\padma\\anaconda3\\envs\\llama\\lib\\site-packages (0.7.0)\n",
      "Requirement already satisfied: regex>=2022.1.18 in c:\\users\\padma\\anaconda3\\envs\\llama\\lib\\site-packages (from tiktoken) (2024.5.15)\n",
      "Requirement already satisfied: requests>=2.26.0 in c:\\users\\padma\\anaconda3\\envs\\llama\\lib\\site-packages (from tiktoken) (2.32.2)\n",
      "Requirement already satisfied: charset-normalizer<4,>=2 in c:\\users\\padma\\anaconda3\\envs\\llama\\lib\\site-packages (from requests>=2.26.0->tiktoken) (3.3.2)\n",
      "Requirement already satisfied: idna<4,>=2.5 in c:\\users\\padma\\anaconda3\\envs\\llama\\lib\\site-packages (from requests>=2.26.0->tiktoken) (3.7)\n",
      "Requirement already satisfied: urllib3<3,>=1.21.1 in c:\\users\\padma\\anaconda3\\envs\\llama\\lib\\site-packages (from requests>=2.26.0->tiktoken) (2.2.1)\n",
      "Requirement already satisfied: certifi>=2017.4.17 in c:\\users\\padma\\anaconda3\\envs\\llama\\lib\\site-packages (from requests>=2.26.0->tiktoken) (2024.6.2)\n"
     ]
    }
   ],
   "source": [
    "!pip install tiktoken"
   ]
  },
  {
   "cell_type": "code",
   "execution_count": 40,
   "id": "ae25769b",
   "metadata": {
    "ExecuteTime": {
     "end_time": "2024-07-01T17:21:24.011742Z",
     "start_time": "2024-07-01T17:21:23.997861Z"
    }
   },
   "outputs": [
    {
     "data": {
      "text/plain": [
       "323"
      ]
     },
     "execution_count": 40,
     "metadata": {},
     "output_type": "execute_result"
    }
   ],
   "source": [
    "import tiktoken\n",
    "encoding = tiktoken.encoding_for_model(\"gpt-4o\")\n",
    "num_tokens = len(encoding.encode(res))\n",
    "num_tokens"
   ]
  }
 ],
 "metadata": {
  "hide_input": false,
  "kernelspec": {
   "display_name": "Python 3 (ipykernel)",
   "language": "python",
   "name": "python3"
  },
  "language_info": {
   "codemirror_mode": {
    "name": "ipython",
    "version": 3
   },
   "file_extension": ".py",
   "mimetype": "text/x-python",
   "name": "python",
   "nbconvert_exporter": "python",
   "pygments_lexer": "ipython3",
   "version": "3.12.3"
  },
  "toc": {
   "base_numbering": 1,
   "nav_menu": {},
   "number_sections": true,
   "sideBar": true,
   "skip_h1_title": false,
   "title_cell": "Table of Contents",
   "title_sidebar": "Contents",
   "toc_cell": false,
   "toc_position": {},
   "toc_section_display": true,
   "toc_window_display": false
  }
 },
 "nbformat": 4,
 "nbformat_minor": 5
}
