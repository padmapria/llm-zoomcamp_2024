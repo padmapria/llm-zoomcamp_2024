{
 "cells": [
  {
   "cell_type": "markdown",
   "id": "b9af67a9",
   "metadata": {},
   "source": [
    "### Q1. Getting the embeddings model"
   ]
  },
  {
   "cell_type": "code",
   "execution_count": 117,
   "id": "54216100",
   "metadata": {
    "ExecuteTime": {
     "end_time": "2024-07-14T10:28:01.984493Z",
     "start_time": "2024-07-14T10:27:59.271788Z"
    }
   },
   "outputs": [],
   "source": [
    "from sentence_transformers import SentenceTransformer\n",
    "\n",
    "model_name= 'multi-qa-distilbert-cos-v1'\n",
    "embedding_model = SentenceTransformer(model_name)\n"
   ]
  },
  {
   "cell_type": "code",
   "execution_count": 116,
   "id": "2907a6c5",
   "metadata": {
    "ExecuteTime": {
     "end_time": "2024-07-14T10:26:57.300132Z",
     "start_time": "2024-07-14T10:26:54.095494Z"
    }
   },
   "outputs": [
    {
     "name": "stdout",
     "output_type": "stream",
     "text": [
      "(768,)\n"
     ]
    },
    {
     "data": {
      "text/plain": [
       "0.07822262"
      ]
     },
     "execution_count": 116,
     "metadata": {},
     "output_type": "execute_result"
    }
   ],
   "source": [
    "user_question = \"I just discovered the course. Can I still join it?\"\n",
    "v = embedding_model.encode(user_question)\n",
    "print(v.shape)\n",
    "v[0]"
   ]
  },
  {
   "cell_type": "markdown",
   "id": "b8163192",
   "metadata": {},
   "source": [
    "### Download the raw data and Prepare the documents"
   ]
  },
  {
   "cell_type": "code",
   "execution_count": 84,
   "id": "86970274",
   "metadata": {
    "ExecuteTime": {
     "end_time": "2024-07-14T10:06:22.901005Z",
     "start_time": "2024-07-14T10:06:19.589627Z"
    }
   },
   "outputs": [
    {
     "name": "stdout",
     "output_type": "stream",
     "text": [
      "375\n"
     ]
    }
   ],
   "source": [
    "import requests \n",
    "\n",
    "base_url = 'https://github.com/DataTalksClub/llm-zoomcamp/blob/main'\n",
    "relative_url = '03-vector-search/eval/documents-with-ids.json'\n",
    "docs_url = f'{base_url}/{relative_url}?raw=1'\n",
    "docs_response = requests.get(docs_url)\n",
    "documents = docs_response.json()\n",
    "\n",
    "filtered_documents = [doc for doc in documents if doc['course'] == 'machine-learning-zoomcamp']\n",
    "print(len(filtered_documents))\n"
   ]
  },
  {
   "cell_type": "code",
   "execution_count": 86,
   "id": "d28ea417",
   "metadata": {
    "ExecuteTime": {
     "end_time": "2024-07-14T10:07:11.598555Z",
     "start_time": "2024-07-14T10:07:11.574047Z"
    }
   },
   "outputs": [
    {
     "data": {
      "text/plain": [
       "{'text': 'Machine Learning Zoomcamp FAQ\\nThe purpose of this document is to capture frequently asked technical questions.\\nWe did this for our data engineering course and it worked quite well. Check this document for inspiration on how to structure your questions and answers:\\nData Engineering Zoomcamp FAQ\\nIn the course GitHub repository there’s a link. Here it is: https://airtable.com/shryxwLd0COOEaqXo\\nwork',\n",
       " 'section': 'General course-related questions',\n",
       " 'question': 'How do I sign up?',\n",
       " 'course': 'machine-learning-zoomcamp',\n",
       " 'id': '0227b872',\n",
       " 'qa_text': array([ 8.80591124e-02,  1.55936480e-02,  7.92557895e-02,  2.52757445e-02,\n",
       "         7.55764693e-02, -3.90596390e-02, -4.13813218e-02,  2.52916981e-02,\n",
       "         2.43242122e-02,  3.62592028e-03, -7.28290388e-03, -3.28751244e-02,\n",
       "         6.12956285e-02, -5.71100675e-02,  1.16774803e-02, -1.79440919e-02,\n",
       "         4.49205711e-02, -5.41606098e-02, -1.92255375e-03,  1.48329586e-02,\n",
       "         7.91353080e-03, -3.43126729e-02,  1.21480646e-02,  1.27185760e-02,\n",
       "        -1.60091277e-02,  7.12131243e-03,  1.58389155e-02, -3.27580259e-04,\n",
       "         3.01290350e-03, -4.58917692e-02, -1.34767662e-03,  2.01149639e-02,\n",
       "         2.33723968e-02, -4.28200280e-03, -3.09383180e-02,  1.94307277e-03,\n",
       "        -1.88219436e-02,  5.35160024e-03,  1.29352538e-02, -3.23958918e-02,\n",
       "         3.10557112e-02,  5.12985419e-03, -3.24432011e-04, -3.15541960e-02,\n",
       "         1.93376858e-02, -6.38602152e-02, -3.05380952e-02, -6.27885461e-02,\n",
       "        -1.74860228e-02,  3.52948979e-02, -2.98070852e-02,  7.45345950e-02,\n",
       "        -2.06182096e-02, -1.79157127e-02,  1.86262429e-02,  5.31014465e-02,\n",
       "         1.19287120e-02, -5.18543273e-02, -1.61924516e-03,  3.58706079e-02,\n",
       "        -6.52316678e-03,  4.53287400e-02, -1.06174229e-02,  1.02415001e-02,\n",
       "        -4.41201329e-02, -7.07985312e-02,  1.33665334e-02, -2.05062982e-02,\n",
       "         3.62042412e-02, -3.39449607e-02,  3.25138718e-02,  2.22205371e-02,\n",
       "        -3.24137174e-02, -3.93159539e-02,  2.75302184e-04,  2.43686941e-02,\n",
       "         1.57889854e-02,  2.50408966e-02,  1.70955481e-03, -2.63277034e-04,\n",
       "         4.40216772e-02, -5.46364784e-02,  2.34348830e-02,  2.99487282e-02,\n",
       "         1.41274901e-02, -2.91330311e-02, -6.47388166e-03, -3.54053788e-02,\n",
       "         1.71306506e-02,  2.90904045e-02,  1.46858841e-02,  8.54332186e-03,\n",
       "        -3.44417877e-02, -1.04835723e-02,  3.15485336e-02, -8.74644816e-02,\n",
       "        -2.11829804e-02, -5.05226664e-02, -7.52343191e-03,  4.42793109e-02,\n",
       "         3.77510339e-02, -1.24983408e-03,  6.45402959e-03, -1.53079489e-02,\n",
       "         1.66408289e-02,  5.46391420e-02,  1.78500824e-02, -7.61285238e-03,\n",
       "        -4.61103208e-02,  4.10019644e-02, -4.52273972e-02, -2.77624130e-02,\n",
       "         1.95288155e-02, -6.11867718e-02,  1.12644276e-02,  5.08542964e-03,\n",
       "         4.85851243e-02, -9.07005742e-03, -9.79334116e-03,  1.72461439e-02,\n",
       "        -7.30905756e-02,  5.36572933e-02, -3.24016735e-02,  1.24104936e-02,\n",
       "         1.06903734e-02,  3.30720581e-02,  4.14839089e-02,  3.38428915e-02,\n",
       "        -1.12894014e-03, -9.08525661e-02,  3.76027520e-03, -3.49574983e-02,\n",
       "         1.31474026e-02,  1.33828316e-02,  3.44475321e-02,  6.85055256e-02,\n",
       "        -1.42454589e-02, -5.42298257e-02, -8.57371744e-03,  2.42687259e-02,\n",
       "         5.15868887e-02, -2.89775860e-02, -1.47677548e-02, -1.08240107e-02,\n",
       "        -5.66393510e-02, -2.07526912e-03, -3.71210054e-02,  4.00516251e-03,\n",
       "        -5.97901046e-02, -1.55889243e-02,  2.72703841e-02,  1.94720495e-02,\n",
       "         1.87415406e-02, -3.74509916e-02,  2.62066610e-02,  7.50286281e-02,\n",
       "         2.16102414e-02, -1.37813287e-02,  5.01988791e-02, -6.47024298e-03,\n",
       "         5.67429997e-02, -4.03868034e-02, -1.20674390e-02,  8.55053142e-02,\n",
       "        -2.71647377e-03,  2.78823730e-02, -4.38817888e-02, -2.82746293e-02,\n",
       "         1.92069039e-02, -4.36236821e-02,  3.98129188e-02, -5.63067943e-02,\n",
       "         1.37331169e-02,  4.01094370e-03, -7.01444969e-03, -1.51920710e-02,\n",
       "         4.40157279e-02,  2.72325780e-02,  3.32806967e-02,  3.21898386e-02,\n",
       "        -8.18990618e-02, -5.92770204e-02,  2.22220123e-02, -2.69076601e-02,\n",
       "         4.15942557e-02, -1.37760816e-02,  4.10629921e-02,  4.05325368e-02,\n",
       "        -5.58695868e-02,  3.60301957e-02, -6.35678973e-03, -1.65046901e-02,\n",
       "        -1.07158942e-03, -7.76120042e-03,  5.12158982e-02, -3.07670962e-02,\n",
       "        -3.98047008e-02,  2.19666678e-02, -9.50635131e-03,  2.66282037e-02,\n",
       "         3.57357375e-02,  5.89501113e-02,  5.54058095e-03, -1.41586189e-03,\n",
       "        -2.31176447e-02,  2.41303165e-03, -2.71170624e-02, -3.01101822e-02,\n",
       "        -1.71693992e-02, -3.58681940e-02, -4.03451212e-02,  2.02253629e-02,\n",
       "         1.31837679e-02, -1.05260005e-02,  1.65335350e-02, -1.22697251e-02,\n",
       "        -3.93680148e-02,  9.12590791e-03, -1.34846112e-02,  2.73655523e-02,\n",
       "         3.88676934e-02, -3.65223759e-03, -2.11339276e-02,  2.25946511e-04,\n",
       "        -3.12622599e-02, -3.47088873e-02, -4.12916392e-02,  2.91098915e-02,\n",
       "         5.44959009e-02, -1.32070079e-01,  9.59284231e-03, -1.37135172e-02,\n",
       "         4.40675057e-02, -1.03825726e-01,  6.36642799e-02,  8.60984437e-03,\n",
       "         1.49037242e-02,  8.22795148e-04, -2.20600925e-02, -9.55899304e-04,\n",
       "        -4.45733254e-04, -1.26143312e-02, -4.75996099e-02, -2.14227941e-02,\n",
       "         4.69316840e-02,  2.59528589e-02, -1.09705301e-02, -1.69420335e-02,\n",
       "         7.51988310e-03, -5.15509620e-02,  4.28996421e-02,  1.28118345e-03,\n",
       "        -1.04663167e-02, -1.64836664e-02, -4.98015843e-02,  4.39343527e-02,\n",
       "         5.84346615e-02, -4.44175638e-02,  6.89992448e-03,  5.39159663e-02,\n",
       "         1.75765175e-02,  7.08559854e-03, -2.18797196e-02, -1.89145177e-03,\n",
       "         1.05513548e-02, -5.98141402e-02, -3.13124433e-02, -2.73168497e-02,\n",
       "         3.12896967e-02,  5.49117364e-02, -1.85727756e-02, -2.15361193e-02,\n",
       "         6.17362820e-02,  7.07535911e-03,  2.01493688e-02, -4.06040438e-02,\n",
       "         2.30053421e-02,  2.01894604e-02,  1.80802736e-02,  3.35160829e-02,\n",
       "        -2.27058716e-02, -5.81537299e-02,  3.04265395e-02, -1.40141770e-02,\n",
       "         2.95397658e-02,  1.17535386e-02, -7.83733279e-02,  2.78972220e-02,\n",
       "        -4.30106744e-02, -7.59010017e-02,  4.92750183e-02,  7.59607106e-02,\n",
       "         3.54485097e-03,  5.81535511e-02,  4.69778627e-02, -4.00012266e-03,\n",
       "        -4.00545029e-03,  2.51615271e-02, -9.95812342e-02,  3.34291011e-02,\n",
       "        -3.01804813e-03,  3.01540755e-02,  4.54931818e-02, -7.25228563e-02,\n",
       "         4.01626192e-02, -1.16758123e-02, -6.19705673e-03, -9.54162627e-02,\n",
       "        -3.01121492e-02, -2.74963677e-02, -4.44819853e-02,  1.52521825e-03,\n",
       "        -6.31317049e-02, -8.02881047e-02,  4.55777980e-02,  3.08044069e-02,\n",
       "        -4.65147616e-03, -2.48241727e-03, -1.87035371e-02,  3.56813967e-02,\n",
       "        -8.61485526e-02, -8.76675639e-03,  5.94233349e-02,  7.03033283e-02,\n",
       "        -3.35509237e-03,  3.14285196e-02,  3.35557349e-02,  4.47359458e-02,\n",
       "        -1.82780642e-02,  4.33740159e-03, -1.56072015e-02,  4.82698269e-02,\n",
       "         5.78110702e-02, -1.55575923e-03, -3.07916552e-02,  3.06997728e-02,\n",
       "         3.05094961e-02,  4.37345393e-02, -2.46432126e-02, -1.98744796e-02,\n",
       "         7.25647155e-03,  3.61755826e-02, -1.86709668e-02, -1.69780385e-02,\n",
       "         5.28292954e-02,  1.72067794e-03,  3.34721506e-02, -6.57697096e-02,\n",
       "        -3.20816971e-02,  4.12170123e-03,  8.29508901e-03, -4.56412435e-02,\n",
       "         3.20225060e-02, -2.28897836e-02,  5.52555919e-02,  4.02579084e-02,\n",
       "        -2.90957466e-02, -3.44284414e-03, -1.38217220e-02, -6.28956710e-04,\n",
       "         2.53444426e-02,  1.89793743e-02, -4.45093364e-02, -4.78352271e-02,\n",
       "         3.22866365e-02,  6.68824911e-02, -8.67473893e-03, -7.80021492e-03,\n",
       "         2.92884000e-03, -2.42292415e-02, -2.09650211e-02, -1.09208882e-01,\n",
       "        -2.94363182e-02,  1.47711886e-02, -4.47422154e-02, -2.71011107e-02,\n",
       "        -3.91127542e-03,  1.68101154e-02,  3.11841816e-02,  1.24178845e-02,\n",
       "         6.59742579e-03, -4.44685388e-03, -3.45145613e-02, -1.24457490e-03,\n",
       "         5.61032780e-02, -4.12151814e-02,  4.74843308e-02,  3.92921269e-02,\n",
       "        -5.78538328e-02, -4.47588190e-02,  1.95152536e-02,  3.01112346e-02,\n",
       "        -8.72337725e-03, -2.85054129e-02, -7.27256620e-03,  3.58913057e-02,\n",
       "        -7.09609911e-02, -6.56752661e-02,  5.03806677e-03,  2.90020946e-02,\n",
       "         4.08620993e-03,  7.97057059e-03, -2.29645055e-02, -4.41172235e-02,\n",
       "         4.12212089e-02,  2.17065159e-02,  1.23130213e-02, -1.74234789e-02,\n",
       "        -1.55699588e-02, -1.17438147e-02,  5.18720075e-02,  3.44448909e-03,\n",
       "        -6.66774511e-02,  3.35143767e-02, -4.39760927e-03, -3.66432928e-02,\n",
       "         7.48344213e-02,  1.37544489e-02, -5.05723208e-02, -1.69508196e-02,\n",
       "        -9.13899541e-02,  3.94619182e-02, -4.91533875e-02,  2.32399423e-02,\n",
       "        -6.95743691e-03, -2.49377601e-02,  1.79813635e-02, -3.91750783e-02,\n",
       "         2.72794794e-02,  5.39086759e-02,  6.70256838e-02,  2.87339631e-02,\n",
       "         7.15193897e-03,  4.48691919e-02, -2.89589632e-02,  2.67862137e-02,\n",
       "         6.71392754e-02, -3.71888257e-03, -2.13471353e-02,  4.02928181e-02,\n",
       "         5.37431352e-02,  2.69307592e-03,  3.33234556e-02,  4.19460349e-02,\n",
       "         3.77101824e-02,  1.00907488e-02,  1.64033659e-02,  1.37284482e-02,\n",
       "         4.92302664e-02,  5.35364300e-02,  5.79526126e-02, -3.29138339e-02,\n",
       "         1.22460108e-02,  2.88262330e-02, -4.93662385e-03,  2.96172164e-02,\n",
       "         6.32616645e-03, -4.79912087e-02, -3.14916708e-02, -3.97242531e-02,\n",
       "        -3.50666232e-02,  2.99804378e-03, -9.44071263e-03,  2.62565492e-03,\n",
       "         9.90505144e-03, -5.18645644e-02,  2.04040334e-02,  3.75541672e-02,\n",
       "         8.65948014e-03,  3.73829305e-02,  2.54472308e-02, -1.32634668e-02,\n",
       "         8.06263834e-02,  2.10315827e-02, -1.99040677e-02, -1.00639071e-02,\n",
       "        -3.93789187e-02, -3.32227536e-02,  1.41282352e-02,  4.00279425e-02,\n",
       "        -7.60366395e-03, -4.89356481e-02, -2.67796721e-02, -5.59408963e-02,\n",
       "         3.21788527e-02,  8.22693110e-03,  3.76135446e-02,  8.17609020e-03,\n",
       "        -1.37847206e-02, -2.16961280e-02,  1.27261067e-02, -6.38863444e-03,\n",
       "        -8.46953876e-03, -6.06384268e-03, -1.16485320e-02,  1.15113584e-02,\n",
       "         2.72040106e-02, -1.29375588e-02, -1.30014783e-02,  3.71455327e-02,\n",
       "         2.18766145e-02,  2.41832882e-02,  3.43355525e-04, -1.44564668e-02,\n",
       "         3.24437730e-02,  5.78670204e-02,  1.25015825e-02,  1.83984600e-02,\n",
       "        -7.32085928e-02, -1.24306940e-02, -1.85831264e-02, -2.32736464e-03,\n",
       "         1.47508318e-02,  1.19954087e-02, -2.08625663e-03, -2.90985610e-02,\n",
       "         3.42209620e-04, -2.48182490e-02, -2.78203711e-02, -3.26307165e-03,\n",
       "        -1.13068363e-02, -3.82190011e-02, -8.83377790e-02, -2.67932210e-02,\n",
       "        -4.97603081e-02,  1.06248930e-02, -2.03507021e-02,  4.61896919e-02,\n",
       "         3.04142870e-02,  7.39258602e-02, -1.93728823e-02, -6.24436699e-02,\n",
       "        -4.30182628e-02, -2.44434690e-03,  2.31975447e-02,  2.40072589e-02,\n",
       "        -6.32212684e-02, -1.28707988e-02, -1.06627736e-02, -1.21628093e-02,\n",
       "         4.63577732e-02,  8.66864156e-03, -3.91136557e-02,  5.18058240e-03,\n",
       "        -3.37269381e-02,  4.08052765e-02,  4.56021167e-02, -5.35723241e-03,\n",
       "         1.47815840e-02,  6.52767625e-03, -1.91998444e-02,  1.32418675e-02,\n",
       "         1.28353909e-02,  3.14029083e-02,  2.19753534e-02, -1.87768061e-02,\n",
       "         9.01829824e-03,  1.66759156e-02,  1.36965408e-03,  4.85401824e-02,\n",
       "        -5.04995957e-02,  2.72835661e-02, -2.80779996e-03,  8.74806941e-03,\n",
       "         2.16660518e-02,  1.66532174e-02, -4.64340895e-02, -1.94112826e-02,\n",
       "         1.49265407e-02, -2.04602331e-02, -9.30300057e-02, -3.57573340e-03,\n",
       "         4.36928831e-02,  4.18228209e-02, -1.04740374e-02,  9.13398247e-03,\n",
       "        -1.26576954e-02,  9.28794208e-04,  3.03165093e-02,  9.25370492e-03,\n",
       "        -1.58128992e-03,  6.60841390e-02,  1.97660029e-02, -3.60444598e-02,\n",
       "        -3.43118561e-03, -3.59755978e-02,  1.49512067e-02, -2.88110338e-02,\n",
       "         1.71100721e-02,  4.95877750e-02,  3.53193656e-02,  4.19225432e-02,\n",
       "         4.83729877e-02,  1.96335483e-02, -1.70030096e-03,  9.81865972e-02,\n",
       "         1.77093726e-02, -3.84568959e-03, -4.52682078e-02, -4.13472299e-03,\n",
       "        -5.71959838e-02,  1.04758702e-02,  1.73035506e-02,  4.14521508e-02,\n",
       "         1.68829784e-02, -1.23576215e-02, -1.35784866e-02,  6.87891021e-02,\n",
       "         1.86709166e-02,  5.50276265e-02,  2.71758232e-02, -3.02900337e-02,\n",
       "         4.20797803e-02,  3.58546004e-02, -7.05272704e-02,  8.97801388e-03,\n",
       "         3.04065272e-02, -4.93474258e-03, -3.86132225e-02, -6.36184961e-02,\n",
       "        -1.28050009e-02,  1.45554570e-02, -3.86997461e-02, -1.90096274e-02,\n",
       "        -4.16539200e-02, -5.53315282e-02,  3.14242975e-03, -4.05708849e-02,\n",
       "        -4.65659192e-03,  1.20833954e-02,  3.92554142e-02, -1.48489578e-02,\n",
       "        -4.43880148e-02, -1.95002239e-02, -2.00038180e-02, -3.84879187e-02,\n",
       "         6.50727004e-02,  1.58438913e-03,  2.42223982e-02,  2.11766995e-02,\n",
       "        -2.80457214e-02,  5.06496318e-02, -3.17925029e-02, -3.93060558e-02,\n",
       "        -7.48628676e-02, -1.47939250e-02,  2.93555832e-03, -1.90878590e-03,\n",
       "        -4.62152697e-02,  2.79246084e-02,  5.36212549e-02,  5.08887209e-02,\n",
       "        -3.63443457e-02,  4.83042449e-02,  2.08878536e-02,  4.74292487e-02,\n",
       "         4.92657814e-03, -2.71410570e-02,  5.47686405e-02, -4.14409824e-02,\n",
       "        -5.68516273e-03, -3.04766260e-02,  3.94587498e-03, -3.12195625e-02,\n",
       "        -4.37383018e-02,  2.12003645e-02, -1.80494245e-02,  2.81700231e-02,\n",
       "         3.96551825e-02, -5.35950437e-02,  5.33269681e-02,  7.67336413e-03,\n",
       "        -2.33187284e-02, -1.42170405e-02,  5.31648025e-02, -3.49745490e-02,\n",
       "         6.54081628e-02,  4.37313914e-02, -7.25451410e-02,  4.89383824e-02,\n",
       "        -9.12460033e-03,  4.59331572e-02, -3.46430093e-02, -2.72386130e-02,\n",
       "        -3.04770898e-02, -4.05410379e-02,  5.07943593e-02,  2.39161886e-02,\n",
       "        -4.21275273e-02, -7.53407329e-02, -6.37313133e-05,  2.31819749e-02,\n",
       "         2.98202038e-02, -4.67951261e-02,  1.05024735e-02, -8.33893660e-03,\n",
       "        -2.53908224e-02, -2.78919213e-03, -5.80482520e-02, -3.58988717e-02,\n",
       "         1.04234079e-02, -3.31454016e-02, -2.29870714e-02,  1.90615728e-02,\n",
       "        -4.05620635e-02,  3.41116195e-03,  1.07716518e-02,  5.10821939e-02,\n",
       "        -3.88363823e-02, -3.84784043e-02,  4.38734479e-02, -3.46119106e-02,\n",
       "         1.73041038e-02,  1.62715632e-02,  2.14489810e-02, -2.26181913e-02,\n",
       "        -1.69365574e-02,  2.30085831e-02,  2.55132560e-02,  8.10870081e-02,\n",
       "         5.52573353e-02,  1.81328021e-02,  2.32690610e-02,  7.37190992e-02,\n",
       "        -2.53651626e-02,  1.41270868e-02,  7.17901159e-03,  4.39648032e-02,\n",
       "        -1.27545493e-02,  2.30466072e-02,  3.01264133e-02, -7.24175433e-03,\n",
       "         3.82401384e-02,  5.56619540e-02, -6.76997751e-02, -2.43170261e-02,\n",
       "        -1.17052328e-02, -1.58955362e-02,  4.49812971e-02, -5.12633175e-02,\n",
       "         2.38026194e-02,  3.47883590e-02, -3.94905955e-02, -3.04278173e-02,\n",
       "         3.11546233e-02, -2.13786680e-02,  3.09259687e-02,  1.42324511e-02,\n",
       "        -6.56462461e-02,  1.46022085e-02,  3.42594949e-03,  4.44190018e-02,\n",
       "         2.20304099e-03, -1.86534114e-02,  1.99844781e-02, -5.16026057e-02,\n",
       "        -4.81740870e-02,  1.30593590e-02,  1.76973585e-02, -1.19784735e-02,\n",
       "        -9.83293355e-03, -7.01444894e-02, -6.58488348e-02,  6.75936863e-02,\n",
       "        -2.80170497e-02,  7.45123858e-03,  2.41913274e-03,  1.14713171e-02],\n",
       "       dtype=float32)}"
      ]
     },
     "execution_count": 86,
     "metadata": {},
     "output_type": "execute_result"
    }
   ],
   "source": [
    "filtered_documents[0]"
   ]
  },
  {
   "cell_type": "markdown",
   "id": "b4b326fb",
   "metadata": {},
   "source": [
    "#### Q2 prepare index for the raw data and create the embeddings"
   ]
  },
  {
   "cell_type": "code",
   "execution_count": 132,
   "id": "e79269a3",
   "metadata": {
    "ExecuteTime": {
     "end_time": "2024-07-14T10:46:28.142494Z",
     "start_time": "2024-07-14T10:46:03.652083Z"
    }
   },
   "outputs": [
    {
     "data": {
      "application/vnd.jupyter.widget-view+json": {
       "model_id": "e90ccfb562c643bf83559fdeed277dc2",
       "version_major": 2,
       "version_minor": 0
      },
      "text/plain": [
       "  0%|          | 0/375 [00:00<?, ?it/s]"
      ]
     },
     "metadata": {},
     "output_type": "display_data"
    },
    {
     "data": {
      "text/plain": [
       "(375, 768)"
      ]
     },
     "execution_count": 132,
     "metadata": {},
     "output_type": "execute_result"
    }
   ],
   "source": [
    "from tqdm.auto import tqdm  \n",
    "import numpy as np  \n",
    "\n",
    "\n",
    "def create_embeddings(filtered_documents):\n",
    "    \n",
    "    embeddings = []  # Initialize an empty list to store the embeddings\n",
    "    \n",
    "    # Iterate over the filtered documents \n",
    "    for doc in tqdm(filtered_documents):\n",
    "        question = doc['question']  \n",
    "        text = doc['text']  \n",
    "        qa_text = f'{question} {text}'  # Concatenate the question and text\n",
    "        \n",
    "        # Encode the concatenated text using the embedding model\n",
    "        encoded_array = embedding_model.encode(qa_text)\n",
    "        doc['qa_text'] = encoded_array\n",
    "        embeddings.append(encoded_array)  # Append the embedding to the list\n",
    "        \n",
    "    return embeddings\n",
    "        \n",
    "# create embedding for our document\n",
    "embeddings = create_embeddings(filtered_documents)  \n",
    "\n",
    "X = np.array(embeddings)  # Convert the list of embeddings to a NumPy array\n",
    "X.shape  "
   ]
  },
  {
   "cell_type": "markdown",
   "id": "88ffd70a",
   "metadata": {},
   "source": [
    "#### Q3. Search"
   ]
  },
  {
   "cell_type": "code",
   "execution_count": 88,
   "id": "600745bc",
   "metadata": {
    "ExecuteTime": {
     "end_time": "2024-07-14T10:07:25.416163Z",
     "start_time": "2024-07-14T10:07:25.403964Z"
    }
   },
   "outputs": [
    {
     "name": "stdout",
     "output_type": "stream",
     "text": [
      "Index of max simiarity is ::  14\n",
      "Highest score of similarity is:  0.65065753\n"
     ]
    }
   ],
   "source": [
    "cosine_similarities = X.dot(v)\n",
    "print('Index of max simiarity is :: ',np.argmax(cosine_similarities))\n",
    "print('Highest score of similarity is: ',cosine_similarities[np.argmax(cosine_similarities)])"
   ]
  },
  {
   "cell_type": "markdown",
   "id": "cb60fcde",
   "metadata": {},
   "source": [
    "### Vector search"
   ]
  },
  {
   "cell_type": "code",
   "execution_count": 108,
   "id": "e20fa8fb",
   "metadata": {
    "ExecuteTime": {
     "end_time": "2024-07-14T10:22:44.528437Z",
     "start_time": "2024-07-14T10:22:44.522561Z"
    }
   },
   "outputs": [
    {
     "name": "stdout",
     "output_type": "stream",
     "text": [
      "ee58a693\n",
      "********\n",
      "0a278fb2\n",
      "********\n",
      "6ba259b1\n",
      "********\n",
      "9f261648\n",
      "********\n",
      "e7ba6b8a\n",
      "********\n"
     ]
    }
   ],
   "source": [
    "class VectorSearchEngine():\n",
    "    def __init__(self, documents, embeddings):\n",
    "        # Initialize the search engine with a list of documents and their embeddings\n",
    "        self.documents = documents\n",
    "        self.embeddings = embeddings\n",
    "\n",
    "    def search(self, v_query, num_results=10):\n",
    "        # Calculate the dot product of the query vector with all embeddings\n",
    "        scores = self.embeddings.dot(v_query)\n",
    "        \n",
    "        # Get the indices of the top num_results documents with the highest scores\n",
    "        idx = np.argsort(-scores)[:num_results]\n",
    "        \n",
    "        # Return the corresponding top matching documents\n",
    "        return [self.documents[i] for i in idx]\n",
    "\n",
    "def VectorSearchEngine_helper(query):\n",
    "    # Create a VectorSearchEngine instance with the documents and embeddings\n",
    "    search_engine = VectorSearchEngine(documents=filtered_documents, embeddings=X)\n",
    "    \n",
    "    # Search for the top 5 results with the given query\n",
    "    results = search_engine.search(query, num_results=5)\n",
    "    \n",
    "    # Return the search results\n",
    "    return results\n",
    "    \n",
    "# Get the search results for the query vector v\n",
    "result = VectorSearchEngine_helper(v)\n",
    "\n",
    "# Print the IDs of the search results, separated by ********\n",
    "for i in result:\n",
    "    print(i['id'])\n",
    "    print(\"********\")"
   ]
  },
  {
   "cell_type": "markdown",
   "id": "8e7a26fb",
   "metadata": {},
   "source": [
    "### Load the ground truth data"
   ]
  },
  {
   "cell_type": "code",
   "execution_count": 76,
   "id": "7ca9c257",
   "metadata": {
    "ExecuteTime": {
     "end_time": "2024-07-14T09:52:42.361018Z",
     "start_time": "2024-07-14T09:52:41.244411Z"
    }
   },
   "outputs": [
    {
     "data": {
      "text/plain": [
       "1830"
      ]
     },
     "execution_count": 76,
     "metadata": {},
     "output_type": "execute_result"
    }
   ],
   "source": [
    "import pandas as pd\n",
    "\n",
    "base_url = 'https://github.com/DataTalksClub/llm-zoomcamp/blob/main'\n",
    "relative_url = '03-vector-search/eval/ground-truth-data.csv'\n",
    "ground_truth_url = f'{base_url}/{relative_url}?raw=1'\n",
    "\n",
    "df_ground_truth = pd.read_csv(ground_truth_url)\n",
    "df_ground_truth = df_ground_truth[df_ground_truth.course == 'machine-learning-zoomcamp']\n",
    "ground_truth = df_ground_truth.to_dict(orient='records')\n",
    "len(ground_truth)"
   ]
  },
  {
   "cell_type": "code",
   "execution_count": 128,
   "id": "01de5052",
   "metadata": {
    "ExecuteTime": {
     "end_time": "2024-07-14T10:35:42.709929Z",
     "start_time": "2024-07-14T10:35:42.703694Z"
    }
   },
   "outputs": [],
   "source": [
    "def hit_rate(relevance_total):\n",
    "    cnt = 0\n",
    "\n",
    "    for line in relevance_total:\n",
    "        if True in line:\n",
    "            cnt = cnt + 1\n",
    "\n",
    "    return cnt / len(relevance_total)\n",
    "\n",
    "\n",
    "def mrr(relevance_total):\n",
    "    total_score = 0.0\n",
    "\n",
    "    for line in relevance_total:\n",
    "        for rank in range(len(line)):\n",
    "            if line[rank] == True:\n",
    "                total_score = total_score + 1 / (rank + 1)\n",
    "\n",
    "    return total_score / len(relevance_total)\n",
    "\n",
    "\n",
    "def evaluate(ground_truth, search_function):\n",
    "    relevance_total = []\n",
    "\n",
    "    for q in tqdm(ground_truth):\n",
    "        doc_id = q['document']\n",
    "        query_vector = embedding_model.encode(q['question'])\n",
    "        results = search_function(query_vector)\n",
    "        relevance = [d['id'] == doc_id for d in results]\n",
    "        relevance_total.append(relevance)\n",
    "\n",
    "    return {\n",
    "        'hit_rate': hit_rate(relevance_total),\n",
    "        'mrr': mrr(relevance_total),\n",
    "    }\n",
    "       "
   ]
  },
  {
   "cell_type": "markdown",
   "id": "3f344d61",
   "metadata": {},
   "source": [
    "#### Q4. Hit-rate for our vector search engine"
   ]
  },
  {
   "cell_type": "code",
   "execution_count": 109,
   "id": "dfffbe0b",
   "metadata": {
    "ExecuteTime": {
     "end_time": "2024-07-14T10:23:33.495175Z",
     "start_time": "2024-07-14T10:22:51.677272Z"
    }
   },
   "outputs": [
    {
     "data": {
      "application/vnd.jupyter.widget-view+json": {
       "model_id": "76fb3e69afdc4b659a7139f5527642af",
       "version_major": 2,
       "version_minor": 0
      },
      "text/plain": [
       "  0%|          | 0/1830 [00:00<?, ?it/s]"
      ]
     },
     "metadata": {},
     "output_type": "display_data"
    },
    {
     "name": "stdout",
     "output_type": "stream",
     "text": [
      "{'hit_rate': 0.9398907103825137, 'mrr': 0.8516484517304189}\n"
     ]
    }
   ],
   "source": [
    "dic = evaluate(ground_truth,VectorSearchEngine_helper)\n",
    "print(dic)"
   ]
  },
  {
   "cell_type": "markdown",
   "id": "975c7b95",
   "metadata": {},
   "source": [
    "### Q5 Indexing the document embeddings with Elasticsearch"
   ]
  },
  {
   "cell_type": "code",
   "execution_count": 122,
   "id": "5902718b",
   "metadata": {
    "ExecuteTime": {
     "end_time": "2024-07-14T10:31:43.631088Z",
     "start_time": "2024-07-14T10:31:43.286463Z"
    }
   },
   "outputs": [
    {
     "name": "stderr",
     "output_type": "stream",
     "text": [
      "C:\\Users\\padma\\AppData\\Local\\Temp\\ipykernel_79688\\191422291.py:41: DeprecationWarning: The 'body' parameter is deprecated and will be removed in a future version. Instead use individual parameters.\n",
      "  es_client.indices.create(index=index_name, body=index_settings)\n"
     ]
    },
    {
     "data": {
      "text/plain": [
       "ObjectApiResponse({'acknowledged': True, 'shards_acknowledged': True, 'index': 'course-questions'})"
      ]
     },
     "execution_count": 122,
     "metadata": {},
     "output_type": "execute_result"
    }
   ],
   "source": [
    "from elasticsearch import Elasticsearch\n",
    "\n",
    "def connect_to_es():\n",
    "    for _ in range(10):  # Retry up to 10 times\n",
    "        try:\n",
    "            es = Elasticsearch(\"http://localhost:9200\", basic_auth=('elastic', 'DkIedPPSCb'))\n",
    "            if es.ping():\n",
    "                return es\n",
    "        except Exception as e:\n",
    "            print(f\"Connection failed, retrying... ({e})\")\n",
    "            time.sleep(10)\n",
    "    raise Exception(\"Failed to connect to Elasticsearch after several retries\")\n",
    "    \n",
    "es_client = connect_to_es()\n",
    "\n",
    "index_settings = {\n",
    "    \"settings\": {\n",
    "        \"number_of_shards\": 1,\n",
    "        \"number_of_replicas\": 0\n",
    "    },\n",
    "    \"mappings\": {\n",
    "        \"properties\": {\n",
    "            \"text\": {\"type\": \"text\"},\n",
    "            \"section\": {\"type\": \"text\"},\n",
    "            \"question\": {\"type\": \"text\"},\n",
    "            \"course\": {\"type\": \"keyword\"},\n",
    "            \"id\": {\"type\": \"keyword\"},\n",
    "            \"qa_text\": {\n",
    "                \"type\": \"dense_vector\",\n",
    "                \"dims\": 768,\n",
    "                \"index\": True,\n",
    "                \"similarity\": \"cosine\"\n",
    "            },\n",
    "        }\n",
    "    }\n",
    "}\n",
    "\n",
    "index_name = \"course-questions\"\n",
    "\n",
    "es_client.indices.delete(index=index_name, ignore_unavailable=True)\n",
    "es_client.indices.create(index=index_name, body=index_settings)"
   ]
  },
  {
   "cell_type": "code",
   "execution_count": 131,
   "id": "51c46f69",
   "metadata": {
    "ExecuteTime": {
     "end_time": "2024-07-14T10:45:36.705467Z",
     "start_time": "2024-07-14T10:45:05.316924Z"
    }
   },
   "outputs": [
    {
     "data": {
      "application/vnd.jupyter.widget-view+json": {
       "model_id": "78cf76a1d5914339bbe84f99c0a68038",
       "version_major": 2,
       "version_minor": 0
      },
      "text/plain": [
       "  0%|          | 0/375 [00:00<?, ?it/s]"
      ]
     },
     "metadata": {},
     "output_type": "display_data"
    },
    {
     "data": {
      "application/vnd.jupyter.widget-view+json": {
       "model_id": "e8851bbc90304971bbe386fba53e2f1e",
       "version_major": 2,
       "version_minor": 0
      },
      "text/plain": [
       "  0%|          | 0/375 [00:00<?, ?it/s]"
      ]
     },
     "metadata": {},
     "output_type": "display_data"
    }
   ],
   "source": [
    "from tqdm.auto import tqdm\n",
    "\n",
    "def create_embeddings_index(filtered_documents):\n",
    "    for doc in tqdm(filtered_documents):\n",
    "        question = doc['question']\n",
    "        text = doc['text']\n",
    "        qa_text = f'{question} {text}'\n",
    "        \n",
    "        doc['qa_text'] = embedding_model.encode(qa_text)\n",
    "\n",
    "    for doc in tqdm(filtered_documents):\n",
    "        es_client.index(index=index_name, document=doc)\n",
    "        \n",
    "create_embeddings_index(filtered_documents)"
   ]
  },
  {
   "cell_type": "markdown",
   "id": "2fdcf7e0",
   "metadata": {},
   "source": [
    "#### Q6. Compute Hit-rate for Elasticsearch"
   ]
  },
  {
   "cell_type": "code",
   "execution_count": 126,
   "id": "2a66f0c9",
   "metadata": {
    "ExecuteTime": {
     "end_time": "2024-07-14T10:33:01.991988Z",
     "start_time": "2024-07-14T10:33:01.978551Z"
    }
   },
   "outputs": [],
   "source": [
    "def elastic_search_knn(vector):\n",
    "    knn = {\n",
    "        \"field\": 'qa_text',\n",
    "        \"query_vector\": vector,\n",
    "        \"k\": 5,\n",
    "        \"num_candidates\": 10000,\n",
    "    }\n",
    "\n",
    "    search_query = {\n",
    "        \"knn\": knn,\n",
    "        \"_source\": [\"text\", \"section\", \"question\", \"course\", \"id\"]\n",
    "    }\n",
    "\n",
    "    es_results = es_client.search(\n",
    "        index=index_name,\n",
    "        body=search_query\n",
    "    )\n",
    "    \n",
    "    result_docs = []\n",
    "    \n",
    "    for hit in es_results['hits']['hits']:\n",
    "        result_docs.append(hit['_source'])\n",
    "\n",
    "    return result_docs"
   ]
  },
  {
   "cell_type": "code",
   "execution_count": 127,
   "id": "8959c9ff-5bbe-4729-8fa3-cdc51ed10f5f",
   "metadata": {
    "ExecuteTime": {
     "end_time": "2024-07-14T10:35:42.659675Z",
     "start_time": "2024-07-14T10:33:02.962658Z"
    }
   },
   "outputs": [
    {
     "data": {
      "application/vnd.jupyter.widget-view+json": {
       "model_id": "a3476372a9414206aaa4fee26422f412",
       "version_major": 2,
       "version_minor": 0
      },
      "text/plain": [
       "  0%|          | 0/1830 [00:00<?, ?it/s]"
      ]
     },
     "metadata": {},
     "output_type": "display_data"
    },
    {
     "name": "stderr",
     "output_type": "stream",
     "text": [
      "C:\\Users\\padma\\AppData\\Local\\Temp\\ipykernel_79688\\718480251.py:14: DeprecationWarning: The 'body' parameter is deprecated and will be removed in a future version. Instead use individual parameters.\n",
      "  es_results = es_client.search(\n"
     ]
    },
    {
     "name": "stdout",
     "output_type": "stream",
     "text": [
      "{'hit_rate': 0.9398907103825137, 'mrr': 0.8516484517304189}\n"
     ]
    }
   ],
   "source": [
    "dic = evaluate(ground_truth,elastic_search_knn)\n",
    "print(dic)"
   ]
  }
 ],
 "metadata": {
  "hide_input": false,
  "kernelspec": {
   "display_name": "Python 3 (ipykernel)",
   "language": "python",
   "name": "python3"
  },
  "language_info": {
   "codemirror_mode": {
    "name": "ipython",
    "version": 3
   },
   "file_extension": ".py",
   "mimetype": "text/x-python",
   "name": "python",
   "nbconvert_exporter": "python",
   "pygments_lexer": "ipython3",
   "version": "3.12.3"
  },
  "toc": {
   "base_numbering": 1,
   "nav_menu": {},
   "number_sections": true,
   "sideBar": true,
   "skip_h1_title": false,
   "title_cell": "Table of Contents",
   "title_sidebar": "Contents",
   "toc_cell": false,
   "toc_position": {},
   "toc_section_display": true,
   "toc_window_display": true
  }
 },
 "nbformat": 4,
 "nbformat_minor": 5
}
