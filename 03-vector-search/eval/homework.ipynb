{
 "cells": [
  {
   "cell_type": "markdown",
   "id": "b9af67a9",
   "metadata": {},
   "source": [
    "### Q1. Getting the embeddings model"
   ]
  },
  {
   "cell_type": "code",
   "execution_count": 1,
   "id": "54216100",
   "metadata": {
    "ExecuteTime": {
     "end_time": "2024-07-14T10:52:09.492999Z",
     "start_time": "2024-07-14T10:51:56.700175Z"
    }
   },
   "outputs": [
    {
     "name": "stderr",
     "output_type": "stream",
     "text": [
      "C:\\Users\\padma\\anaconda3\\envs\\llama\\Lib\\site-packages\\sentence_transformers\\cross_encoder\\CrossEncoder.py:11: TqdmExperimentalWarning: Using `tqdm.autonotebook.tqdm` in notebook mode. Use `tqdm.tqdm` instead to force console mode (e.g. in jupyter console)\n",
      "  from tqdm.autonotebook import tqdm, trange\n"
     ]
    }
   ],
   "source": [
    "from sentence_transformers import SentenceTransformer\n",
    "\n",
    "model_name= 'multi-qa-distilbert-cos-v1'\n",
    "embedding_model = SentenceTransformer(model_name)"
   ]
  },
  {
   "cell_type": "code",
   "execution_count": 2,
   "id": "2907a6c5",
   "metadata": {
    "ExecuteTime": {
     "end_time": "2024-07-14T10:52:11.351106Z",
     "start_time": "2024-07-14T10:52:11.260352Z"
    }
   },
   "outputs": [
    {
     "name": "stdout",
     "output_type": "stream",
     "text": [
      "(768,)\n"
     ]
    },
    {
     "data": {
      "text/plain": [
       "0.07822262"
      ]
     },
     "execution_count": 2,
     "metadata": {},
     "output_type": "execute_result"
    }
   ],
   "source": [
    "user_question = \"I just discovered the course. Can I still join it?\"\n",
    "v = embedding_model.encode(user_question)\n",
    "print(v.shape)\n",
    "v[0]"
   ]
  },
  {
   "cell_type": "markdown",
   "id": "b8163192",
   "metadata": {},
   "source": [
    "### Download the raw data and Prepare the documents"
   ]
  },
  {
   "cell_type": "code",
   "execution_count": 3,
   "id": "86970274",
   "metadata": {
    "ExecuteTime": {
     "end_time": "2024-07-14T10:52:14.939045Z",
     "start_time": "2024-07-14T10:52:13.749685Z"
    }
   },
   "outputs": [
    {
     "name": "stdout",
     "output_type": "stream",
     "text": [
      "375\n"
     ]
    }
   ],
   "source": [
    "import requests \n",
    "\n",
    "base_url = 'https://github.com/DataTalksClub/llm-zoomcamp/blob/main'\n",
    "relative_url = '03-vector-search/eval/documents-with-ids.json'\n",
    "docs_url = f'{base_url}/{relative_url}?raw=1'\n",
    "docs_response = requests.get(docs_url)\n",
    "documents = docs_response.json()\n",
    "\n",
    "filtered_documents = [doc for doc in documents if doc['course'] == 'machine-learning-zoomcamp']\n",
    "print(len(filtered_documents))\n"
   ]
  },
  {
   "cell_type": "markdown",
   "id": "b4b326fb",
   "metadata": {},
   "source": [
    "#### Q2 prepare index for the raw data and create the embeddings"
   ]
  },
  {
   "cell_type": "code",
   "execution_count": 4,
   "id": "e79269a3",
   "metadata": {
    "ExecuteTime": {
     "end_time": "2024-07-14T10:52:44.944729Z",
     "start_time": "2024-07-14T10:52:20.786557Z"
    }
   },
   "outputs": [
    {
     "data": {
      "application/vnd.jupyter.widget-view+json": {
       "model_id": "d4802b8ff6cc46b4b2c86e4814baf6ea",
       "version_major": 2,
       "version_minor": 0
      },
      "text/plain": [
       "  0%|          | 0/375 [00:00<?, ?it/s]"
      ]
     },
     "metadata": {},
     "output_type": "display_data"
    },
    {
     "data": {
      "text/plain": [
       "(375, 768)"
      ]
     },
     "execution_count": 4,
     "metadata": {},
     "output_type": "execute_result"
    }
   ],
   "source": [
    "from tqdm.auto import tqdm  \n",
    "import numpy as np  \n",
    "\n",
    "\n",
    "def create_embeddings(filtered_documents):\n",
    "    \n",
    "    embeddings = []  # Initialize an empty list to store the embeddings\n",
    "    \n",
    "    # Iterate over the filtered documents \n",
    "    for doc in tqdm(filtered_documents):\n",
    "        question = doc['question']  \n",
    "        text = doc['text']  \n",
    "        qa_text = f'{question} {text}'  # Concatenate the question and text\n",
    "        \n",
    "        # Encode the concatenated text using the embedding model\n",
    "        encoded_array = embedding_model.encode(qa_text)\n",
    "        doc['qa_text'] = encoded_array\n",
    "        embeddings.append(encoded_array)  # Append the embedding to the list\n",
    "        \n",
    "    return embeddings\n",
    "        \n",
    "# create embedding for our document\n",
    "embeddings = create_embeddings(filtered_documents)  \n",
    "\n",
    "X = np.array(embeddings)  # Convert the list of embeddings to a NumPy array\n",
    "X.shape  "
   ]
  },
  {
   "cell_type": "markdown",
   "id": "88ffd70a",
   "metadata": {},
   "source": [
    "#### Q3. Search"
   ]
  },
  {
   "cell_type": "code",
   "execution_count": 5,
   "id": "600745bc",
   "metadata": {
    "ExecuteTime": {
     "end_time": "2024-07-14T10:52:47.633235Z",
     "start_time": "2024-07-14T10:52:47.620646Z"
    }
   },
   "outputs": [
    {
     "name": "stdout",
     "output_type": "stream",
     "text": [
      "Index of max simiarity is ::  14\n",
      "Highest score of similarity is:  0.65065753\n"
     ]
    }
   ],
   "source": [
    "cosine_similarities = X.dot(v)\n",
    "print('Index of max simiarity is :: ',np.argmax(cosine_similarities))\n",
    "print('Highest score of similarity is: ',cosine_similarities[np.argmax(cosine_similarities)])"
   ]
  },
  {
   "cell_type": "markdown",
   "id": "cb60fcde",
   "metadata": {},
   "source": [
    "### Vector search"
   ]
  },
  {
   "cell_type": "code",
   "execution_count": 6,
   "id": "e20fa8fb",
   "metadata": {
    "ExecuteTime": {
     "end_time": "2024-07-14T10:52:48.892704Z",
     "start_time": "2024-07-14T10:52:48.874147Z"
    }
   },
   "outputs": [
    {
     "name": "stdout",
     "output_type": "stream",
     "text": [
      "ee58a693\n",
      "********\n",
      "0a278fb2\n",
      "********\n",
      "6ba259b1\n",
      "********\n",
      "9f261648\n",
      "********\n",
      "e7ba6b8a\n",
      "********\n"
     ]
    }
   ],
   "source": [
    "class VectorSearchEngine():\n",
    "    def __init__(self, documents, embeddings):\n",
    "        # Initialize the search engine with a list of documents and their embeddings\n",
    "        self.documents = documents\n",
    "        self.embeddings = embeddings\n",
    "\n",
    "    def search(self, v_query, num_results=10):\n",
    "        # Calculate the dot product of the query vector with all embeddings\n",
    "        scores = self.embeddings.dot(v_query)\n",
    "        \n",
    "        # Get the indices of the top num_results documents with the highest scores\n",
    "        idx = np.argsort(-scores)[:num_results]\n",
    "        \n",
    "        # Return the corresponding top matching documents\n",
    "        return [self.documents[i] for i in idx]\n",
    "\n",
    "def VectorSearchEngine_helper(query):\n",
    "    # Create a VectorSearchEngine instance with the documents and embeddings\n",
    "    search_engine = VectorSearchEngine(documents=filtered_documents, embeddings=X)\n",
    "    \n",
    "    # Search for the top 5 results with the given query\n",
    "    results = search_engine.search(query, num_results=5)\n",
    "    \n",
    "    # Return the search results\n",
    "    return results\n",
    "    \n",
    "# Get the search results for the query vector v\n",
    "result = VectorSearchEngine_helper(v)\n",
    "\n",
    "# Print the IDs of the search results, separated by ********\n",
    "for i in result:\n",
    "    print(i['id'])\n",
    "    print(\"********\")"
   ]
  },
  {
   "cell_type": "markdown",
   "id": "8e7a26fb",
   "metadata": {},
   "source": [
    "### Load the ground truth data"
   ]
  },
  {
   "cell_type": "code",
   "execution_count": 7,
   "id": "7ca9c257",
   "metadata": {
    "ExecuteTime": {
     "end_time": "2024-07-14T10:52:52.314252Z",
     "start_time": "2024-07-14T10:52:50.620387Z"
    }
   },
   "outputs": [
    {
     "data": {
      "text/plain": [
       "1830"
      ]
     },
     "execution_count": 7,
     "metadata": {},
     "output_type": "execute_result"
    }
   ],
   "source": [
    "import pandas as pd\n",
    "\n",
    "base_url = 'https://github.com/DataTalksClub/llm-zoomcamp/blob/main'\n",
    "relative_url = '03-vector-search/eval/ground-truth-data.csv'\n",
    "ground_truth_url = f'{base_url}/{relative_url}?raw=1'\n",
    "\n",
    "df_ground_truth = pd.read_csv(ground_truth_url)\n",
    "df_ground_truth = df_ground_truth[df_ground_truth.course == 'machine-learning-zoomcamp']\n",
    "ground_truth = df_ground_truth.to_dict(orient='records')\n",
    "len(ground_truth)"
   ]
  },
  {
   "cell_type": "code",
   "execution_count": 8,
   "id": "01de5052",
   "metadata": {
    "ExecuteTime": {
     "end_time": "2024-07-14T10:52:54.594906Z",
     "start_time": "2024-07-14T10:52:54.588993Z"
    }
   },
   "outputs": [],
   "source": [
    "def hit_rate(relevance_total):\n",
    "    cnt = 0\n",
    "\n",
    "    for line in relevance_total:\n",
    "        if True in line:\n",
    "            cnt = cnt + 1\n",
    "\n",
    "    return cnt / len(relevance_total)\n",
    "\n",
    "\n",
    "def mrr(relevance_total):\n",
    "    total_score = 0.0\n",
    "\n",
    "    for line in relevance_total:\n",
    "        for rank in range(len(line)):\n",
    "            if line[rank] == True:\n",
    "                total_score = total_score + 1 / (rank + 1)\n",
    "\n",
    "    return total_score / len(relevance_total)\n",
    "\n",
    "\n",
    "def evaluate(ground_truth, search_function):\n",
    "    relevance_total = []\n",
    "\n",
    "    for q in tqdm(ground_truth):\n",
    "        doc_id = q['document']\n",
    "        query_vector = embedding_model.encode(q['question'])\n",
    "        results = search_function(query_vector)\n",
    "        relevance = [d['id'] == doc_id for d in results]\n",
    "        relevance_total.append(relevance)\n",
    "\n",
    "    return {\n",
    "        'hit_rate': hit_rate(relevance_total),\n",
    "        'mrr': mrr(relevance_total),\n",
    "    }\n",
    "       "
   ]
  },
  {
   "cell_type": "markdown",
   "id": "3f344d61",
   "metadata": {},
   "source": [
    "#### Q4. Hit-rate for our vector search engine"
   ]
  },
  {
   "cell_type": "code",
   "execution_count": 9,
   "id": "dfffbe0b",
   "metadata": {
    "ExecuteTime": {
     "end_time": "2024-07-14T10:53:39.896269Z",
     "start_time": "2024-07-14T10:52:57.799208Z"
    }
   },
   "outputs": [
    {
     "data": {
      "application/vnd.jupyter.widget-view+json": {
       "model_id": "8c9b7325a216486ab1c6f0e0429338ea",
       "version_major": 2,
       "version_minor": 0
      },
      "text/plain": [
       "  0%|          | 0/1830 [00:00<?, ?it/s]"
      ]
     },
     "metadata": {},
     "output_type": "display_data"
    },
    {
     "name": "stdout",
     "output_type": "stream",
     "text": [
      "{'hit_rate': 0.9398907103825137, 'mrr': 0.8516484517304189}\n"
     ]
    }
   ],
   "source": [
    "dic = evaluate(ground_truth,VectorSearchEngine_helper)\n",
    "print(dic)"
   ]
  },
  {
   "cell_type": "markdown",
   "id": "975c7b95",
   "metadata": {},
   "source": [
    "### Q5 Indexing the document embeddings with Elasticsearch"
   ]
  },
  {
   "cell_type": "code",
   "execution_count": 10,
   "id": "5902718b",
   "metadata": {
    "ExecuteTime": {
     "end_time": "2024-07-14T10:54:24.092787Z",
     "start_time": "2024-07-14T10:54:22.311176Z"
    }
   },
   "outputs": [
    {
     "name": "stderr",
     "output_type": "stream",
     "text": [
      "C:\\Users\\padma\\AppData\\Local\\Temp\\ipykernel_96416\\191422291.py:41: DeprecationWarning: The 'body' parameter is deprecated and will be removed in a future version. Instead use individual parameters.\n",
      "  es_client.indices.create(index=index_name, body=index_settings)\n"
     ]
    },
    {
     "data": {
      "text/plain": [
       "ObjectApiResponse({'acknowledged': True, 'shards_acknowledged': True, 'index': 'course-questions'})"
      ]
     },
     "execution_count": 10,
     "metadata": {},
     "output_type": "execute_result"
    }
   ],
   "source": [
    "from elasticsearch import Elasticsearch\n",
    "\n",
    "def connect_to_es():\n",
    "    for _ in range(10):  # Retry up to 10 times\n",
    "        try:\n",
    "            es = Elasticsearch(\"http://localhost:9200\", basic_auth=('elastic', 'DkIedPPSCb'))\n",
    "            if es.ping():\n",
    "                return es\n",
    "        except Exception as e:\n",
    "            print(f\"Connection failed, retrying... ({e})\")\n",
    "            time.sleep(10)\n",
    "    raise Exception(\"Failed to connect to Elasticsearch after several retries\")\n",
    "    \n",
    "es_client = connect_to_es()\n",
    "\n",
    "index_settings = {\n",
    "    \"settings\": {\n",
    "        \"number_of_shards\": 1,\n",
    "        \"number_of_replicas\": 0\n",
    "    },\n",
    "    \"mappings\": {\n",
    "        \"properties\": {\n",
    "            \"text\": {\"type\": \"text\"},\n",
    "            \"section\": {\"type\": \"text\"},\n",
    "            \"question\": {\"type\": \"text\"},\n",
    "            \"course\": {\"type\": \"keyword\"},\n",
    "            \"id\": {\"type\": \"keyword\"},\n",
    "            \"qa_text\": {\n",
    "                \"type\": \"dense_vector\",\n",
    "                \"dims\": 768,\n",
    "                \"index\": True,\n",
    "                \"similarity\": \"cosine\"\n",
    "            },\n",
    "        }\n",
    "    }\n",
    "}\n",
    "\n",
    "index_name = \"course-questions\"\n",
    "\n",
    "es_client.indices.delete(index=index_name, ignore_unavailable=True)\n",
    "es_client.indices.create(index=index_name, body=index_settings)"
   ]
  },
  {
   "cell_type": "code",
   "execution_count": 11,
   "id": "51c46f69",
   "metadata": {
    "ExecuteTime": {
     "end_time": "2024-07-14T10:55:03.454710Z",
     "start_time": "2024-07-14T10:54:27.013009Z"
    }
   },
   "outputs": [
    {
     "data": {
      "application/vnd.jupyter.widget-view+json": {
       "model_id": "3302d7d0681e49ba97a4bf3b19312888",
       "version_major": 2,
       "version_minor": 0
      },
      "text/plain": [
       "  0%|          | 0/375 [00:00<?, ?it/s]"
      ]
     },
     "metadata": {},
     "output_type": "display_data"
    },
    {
     "data": {
      "application/vnd.jupyter.widget-view+json": {
       "model_id": "2a9bd2ffb4b845c2b59a50d587df710e",
       "version_major": 2,
       "version_minor": 0
      },
      "text/plain": [
       "  0%|          | 0/375 [00:00<?, ?it/s]"
      ]
     },
     "metadata": {},
     "output_type": "display_data"
    }
   ],
   "source": [
    "from tqdm.auto import tqdm\n",
    "\n",
    "def create_embeddings_index(filtered_documents):\n",
    "    for doc in tqdm(filtered_documents):\n",
    "        question = doc['question']\n",
    "        text = doc['text']\n",
    "        qa_text = f'{question} {text}'\n",
    "        \n",
    "        doc['qa_text'] = embedding_model.encode(qa_text)\n",
    "\n",
    "    for doc in tqdm(filtered_documents):\n",
    "        es_client.index(index=index_name, document=doc)\n",
    "        \n",
    "create_embeddings_index(filtered_documents)"
   ]
  },
  {
   "cell_type": "code",
   "execution_count": 12,
   "id": "2a66f0c9",
   "metadata": {
    "ExecuteTime": {
     "end_time": "2024-07-14T10:55:10.969275Z",
     "start_time": "2024-07-14T10:55:10.960607Z"
    }
   },
   "outputs": [],
   "source": [
    "def elastic_search_knn(vector):\n",
    "    knn = {\n",
    "        \"field\": 'qa_text',\n",
    "        \"query_vector\": vector,\n",
    "        \"k\": 5,\n",
    "        \"num_candidates\": 10000,\n",
    "    }\n",
    "\n",
    "    search_query = {\n",
    "        \"knn\": knn,\n",
    "        \"_source\": [\"text\", \"section\", \"question\", \"course\", \"id\"]\n",
    "    }\n",
    "\n",
    "    es_results = es_client.search(\n",
    "        index=index_name,\n",
    "        body=search_query\n",
    "    )\n",
    "    \n",
    "    result_docs = []\n",
    "    \n",
    "    for hit in es_results['hits']['hits']:\n",
    "        result_docs.append(hit['_source'])\n",
    "\n",
    "    return result_docs"
   ]
  },
  {
   "cell_type": "markdown",
   "id": "900fdb0c",
   "metadata": {},
   "source": [
    "#### ID of the document with the highest score for Q1 vector"
   ]
  },
  {
   "cell_type": "code",
   "execution_count": 15,
   "id": "f16a7368",
   "metadata": {
    "ExecuteTime": {
     "end_time": "2024-07-14T10:56:04.029851Z",
     "start_time": "2024-07-14T10:56:03.877710Z"
    }
   },
   "outputs": [
    {
     "name": "stdout",
     "output_type": "stream",
     "text": [
      "{'question': 'The course has already started. Can I still join it?', 'course': 'machine-learning-zoomcamp', 'section': 'General course-related questions', 'text': 'Yes, you can. You won’t be able to submit some of the homeworks, but you can still take part in the course.\\nIn order to get a certificate, you need to submit 2 out of 3 course projects and review 3 peers’ Projects by the deadline. It means that if you join the course at the end of November and manage to work on two projects, you will still be eligible for a certificate.', 'id': 'ee58a693'}\n"
     ]
    },
    {
     "name": "stderr",
     "output_type": "stream",
     "text": [
      "C:\\Users\\padma\\AppData\\Local\\Temp\\ipykernel_96416\\718480251.py:14: DeprecationWarning: The 'body' parameter is deprecated and will be removed in a future version. Instead use individual parameters.\n",
      "  es_results = es_client.search(\n"
     ]
    }
   ],
   "source": [
    "print(elastic_search_knn(v)[0])"
   ]
  },
  {
   "cell_type": "markdown",
   "id": "2fdcf7e0",
   "metadata": {},
   "source": [
    "#### Q6. Compute Hit-rate for Elasticsearch"
   ]
  },
  {
   "cell_type": "code",
   "execution_count": 127,
   "id": "8959c9ff-5bbe-4729-8fa3-cdc51ed10f5f",
   "metadata": {
    "ExecuteTime": {
     "end_time": "2024-07-14T10:35:42.659675Z",
     "start_time": "2024-07-14T10:33:02.962658Z"
    }
   },
   "outputs": [
    {
     "data": {
      "application/vnd.jupyter.widget-view+json": {
       "model_id": "a3476372a9414206aaa4fee26422f412",
       "version_major": 2,
       "version_minor": 0
      },
      "text/plain": [
       "  0%|          | 0/1830 [00:00<?, ?it/s]"
      ]
     },
     "metadata": {},
     "output_type": "display_data"
    },
    {
     "name": "stderr",
     "output_type": "stream",
     "text": [
      "C:\\Users\\padma\\AppData\\Local\\Temp\\ipykernel_79688\\718480251.py:14: DeprecationWarning: The 'body' parameter is deprecated and will be removed in a future version. Instead use individual parameters.\n",
      "  es_results = es_client.search(\n"
     ]
    },
    {
     "name": "stdout",
     "output_type": "stream",
     "text": [
      "{'hit_rate': 0.9398907103825137, 'mrr': 0.8516484517304189}\n"
     ]
    }
   ],
   "source": [
    "dic = evaluate(ground_truth,elastic_search_knn)\n",
    "print(dic)"
   ]
  }
 ],
 "metadata": {
  "hide_input": false,
  "kernelspec": {
   "display_name": "Python 3 (ipykernel)",
   "language": "python",
   "name": "python3"
  },
  "language_info": {
   "codemirror_mode": {
    "name": "ipython",
    "version": 3
   },
   "file_extension": ".py",
   "mimetype": "text/x-python",
   "name": "python",
   "nbconvert_exporter": "python",
   "pygments_lexer": "ipython3",
   "version": "3.12.3"
  },
  "toc": {
   "base_numbering": 1,
   "nav_menu": {},
   "number_sections": true,
   "sideBar": true,
   "skip_h1_title": false,
   "title_cell": "Table of Contents",
   "title_sidebar": "Contents",
   "toc_cell": false,
   "toc_position": {},
   "toc_section_display": true,
   "toc_window_display": true
  }
 },
 "nbformat": 4,
 "nbformat_minor": 5
}
