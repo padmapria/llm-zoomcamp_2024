{
 "cells": [
  {
   "cell_type": "markdown",
   "id": "d658f909-e679-41e9-9c4e-e0241c719049",
   "metadata": {},
   "source": [
    "If you're not running in Saturn Cloud, you need to install these libraries:\n",
    "\n",
    "Make sure you use the latest versions\n",
    "\n",
    "```\n",
    "pip install -U transformers accelerate bitsandbytes\n",
    "```"
   ]
  },
  {
   "cell_type": "code",
   "execution_count": 49,
   "id": "002ae07d",
   "metadata": {
    "ExecuteTime": {
     "end_time": "2024-07-02T07:15:30.574839Z",
     "start_time": "2024-07-02T07:15:19.761822Z"
    }
   },
   "outputs": [
    {
     "name": "stdout",
     "output_type": "stream",
     "text": [
      "Requirement already satisfied: transformers==4.42.3 in c:\\users\\padma\\anaconda3\\envs\\llama\\lib\\site-packages (4.42.3)\n",
      "Requirement already satisfied: filelock in c:\\users\\padma\\anaconda3\\envs\\llama\\lib\\site-packages (from transformers==4.42.3) (3.15.1)\n",
      "Requirement already satisfied: huggingface-hub<1.0,>=0.23.2 in c:\\users\\padma\\anaconda3\\envs\\llama\\lib\\site-packages (from transformers==4.42.3) (0.23.4)\n",
      "Requirement already satisfied: numpy<2.0,>=1.17 in c:\\users\\padma\\anaconda3\\envs\\llama\\lib\\site-packages (from transformers==4.42.3) (1.26.4)\n",
      "Requirement already satisfied: packaging>=20.0 in c:\\users\\padma\\anaconda3\\envs\\llama\\lib\\site-packages (from transformers==4.42.3) (23.2)\n",
      "Requirement already satisfied: pyyaml>=5.1 in c:\\users\\padma\\anaconda3\\envs\\llama\\lib\\site-packages (from transformers==4.42.3) (6.0.1)\n",
      "Requirement already satisfied: regex!=2019.12.17 in c:\\users\\padma\\anaconda3\\envs\\llama\\lib\\site-packages (from transformers==4.42.3) (2024.5.15)\n",
      "Requirement already satisfied: requests in c:\\users\\padma\\anaconda3\\envs\\llama\\lib\\site-packages (from transformers==4.42.3) (2.32.2)\n",
      "Requirement already satisfied: safetensors>=0.4.1 in c:\\users\\padma\\anaconda3\\envs\\llama\\lib\\site-packages (from transformers==4.42.3) (0.4.3)\n",
      "Requirement already satisfied: tokenizers<0.20,>=0.19 in c:\\users\\padma\\anaconda3\\envs\\llama\\lib\\site-packages (from transformers==4.42.3) (0.19.1)\n",
      "Requirement already satisfied: tqdm>=4.27 in c:\\users\\padma\\anaconda3\\envs\\llama\\lib\\site-packages (from transformers==4.42.3) (4.66.4)\n",
      "Requirement already satisfied: fsspec>=2023.5.0 in c:\\users\\padma\\anaconda3\\envs\\llama\\lib\\site-packages (from huggingface-hub<1.0,>=0.23.2->transformers==4.42.3) (2024.5.0)\n",
      "Requirement already satisfied: typing-extensions>=3.7.4.3 in c:\\users\\padma\\anaconda3\\envs\\llama\\lib\\site-packages (from huggingface-hub<1.0,>=0.23.2->transformers==4.42.3) (4.11.0)\n",
      "Requirement already satisfied: colorama in c:\\users\\padma\\anaconda3\\envs\\llama\\lib\\site-packages (from tqdm>=4.27->transformers==4.42.3) (0.4.6)\n",
      "Requirement already satisfied: charset-normalizer<4,>=2 in c:\\users\\padma\\anaconda3\\envs\\llama\\lib\\site-packages (from requests->transformers==4.42.3) (3.3.2)\n",
      "Requirement already satisfied: idna<4,>=2.5 in c:\\users\\padma\\anaconda3\\envs\\llama\\lib\\site-packages (from requests->transformers==4.42.3) (3.7)\n",
      "Requirement already satisfied: urllib3<3,>=1.21.1 in c:\\users\\padma\\anaconda3\\envs\\llama\\lib\\site-packages (from requests->transformers==4.42.3) (2.2.1)\n",
      "Requirement already satisfied: certifi>=2017.4.17 in c:\\users\\padma\\anaconda3\\envs\\llama\\lib\\site-packages (from requests->transformers==4.42.3) (2024.6.2)\n",
      "Requirement already satisfied: sentencepiece==0.2.0 in c:\\users\\padma\\anaconda3\\envs\\llama\\lib\\site-packages (0.2.0)\n",
      "Requirement already satisfied: accelerate==0.31.0 in c:\\users\\padma\\anaconda3\\envs\\llama\\lib\\site-packages (0.31.0)\n",
      "Requirement already satisfied: numpy>=1.17 in c:\\users\\padma\\anaconda3\\envs\\llama\\lib\\site-packages (from accelerate==0.31.0) (1.26.4)\n",
      "Requirement already satisfied: packaging>=20.0 in c:\\users\\padma\\anaconda3\\envs\\llama\\lib\\site-packages (from accelerate==0.31.0) (23.2)\n",
      "Requirement already satisfied: psutil in c:\\users\\padma\\anaconda3\\envs\\llama\\lib\\site-packages (from accelerate==0.31.0) (5.9.0)\n",
      "Requirement already satisfied: pyyaml in c:\\users\\padma\\anaconda3\\envs\\llama\\lib\\site-packages (from accelerate==0.31.0) (6.0.1)\n",
      "Requirement already satisfied: torch>=1.10.0 in c:\\users\\padma\\anaconda3\\envs\\llama\\lib\\site-packages (from accelerate==0.31.0) (2.3.1)\n",
      "Requirement already satisfied: huggingface-hub in c:\\users\\padma\\anaconda3\\envs\\llama\\lib\\site-packages (from accelerate==0.31.0) (0.23.4)\n",
      "Requirement already satisfied: safetensors>=0.3.1 in c:\\users\\padma\\anaconda3\\envs\\llama\\lib\\site-packages (from accelerate==0.31.0) (0.4.3)\n",
      "Requirement already satisfied: filelock in c:\\users\\padma\\anaconda3\\envs\\llama\\lib\\site-packages (from torch>=1.10.0->accelerate==0.31.0) (3.15.1)\n",
      "Requirement already satisfied: typing-extensions>=4.8.0 in c:\\users\\padma\\anaconda3\\envs\\llama\\lib\\site-packages (from torch>=1.10.0->accelerate==0.31.0) (4.11.0)\n",
      "Requirement already satisfied: sympy in c:\\users\\padma\\anaconda3\\envs\\llama\\lib\\site-packages (from torch>=1.10.0->accelerate==0.31.0) (1.12.1)\n",
      "Requirement already satisfied: networkx in c:\\users\\padma\\anaconda3\\envs\\llama\\lib\\site-packages (from torch>=1.10.0->accelerate==0.31.0) (3.3)\n",
      "Requirement already satisfied: jinja2 in c:\\users\\padma\\anaconda3\\envs\\llama\\lib\\site-packages (from torch>=1.10.0->accelerate==0.31.0) (3.1.4)\n",
      "Requirement already satisfied: fsspec in c:\\users\\padma\\anaconda3\\envs\\llama\\lib\\site-packages (from torch>=1.10.0->accelerate==0.31.0) (2024.5.0)\n",
      "Requirement already satisfied: mkl<=2021.4.0,>=2021.1.1 in c:\\users\\padma\\anaconda3\\envs\\llama\\lib\\site-packages (from torch>=1.10.0->accelerate==0.31.0) (2021.4.0)\n",
      "Requirement already satisfied: requests in c:\\users\\padma\\anaconda3\\envs\\llama\\lib\\site-packages (from huggingface-hub->accelerate==0.31.0) (2.32.2)\n",
      "Requirement already satisfied: tqdm>=4.42.1 in c:\\users\\padma\\anaconda3\\envs\\llama\\lib\\site-packages (from huggingface-hub->accelerate==0.31.0) (4.66.4)\n",
      "Requirement already satisfied: intel-openmp==2021.* in c:\\users\\padma\\anaconda3\\envs\\llama\\lib\\site-packages (from mkl<=2021.4.0,>=2021.1.1->torch>=1.10.0->accelerate==0.31.0) (2021.4.0)\n",
      "Requirement already satisfied: tbb==2021.* in c:\\users\\padma\\anaconda3\\envs\\llama\\lib\\site-packages (from mkl<=2021.4.0,>=2021.1.1->torch>=1.10.0->accelerate==0.31.0) (2021.12.0)\n",
      "Requirement already satisfied: colorama in c:\\users\\padma\\anaconda3\\envs\\llama\\lib\\site-packages (from tqdm>=4.42.1->huggingface-hub->accelerate==0.31.0) (0.4.6)\n",
      "Requirement already satisfied: MarkupSafe>=2.0 in c:\\users\\padma\\anaconda3\\envs\\llama\\lib\\site-packages (from jinja2->torch>=1.10.0->accelerate==0.31.0) (2.1.3)\n",
      "Requirement already satisfied: charset-normalizer<4,>=2 in c:\\users\\padma\\anaconda3\\envs\\llama\\lib\\site-packages (from requests->huggingface-hub->accelerate==0.31.0) (3.3.2)\n",
      "Requirement already satisfied: idna<4,>=2.5 in c:\\users\\padma\\anaconda3\\envs\\llama\\lib\\site-packages (from requests->huggingface-hub->accelerate==0.31.0) (3.7)\n",
      "Requirement already satisfied: urllib3<3,>=1.21.1 in c:\\users\\padma\\anaconda3\\envs\\llama\\lib\\site-packages (from requests->huggingface-hub->accelerate==0.31.0) (2.2.1)\n",
      "Requirement already satisfied: certifi>=2017.4.17 in c:\\users\\padma\\anaconda3\\envs\\llama\\lib\\site-packages (from requests->huggingface-hub->accelerate==0.31.0) (2024.6.2)\n",
      "Requirement already satisfied: mpmath<1.4.0,>=1.1.0 in c:\\users\\padma\\anaconda3\\envs\\llama\\lib\\site-packages (from sympy->torch>=1.10.0->accelerate==0.31.0) (1.3.0)\n"
     ]
    }
   ],
   "source": [
    "!pip install -U transformers==4.42.3\n",
    "!pip install sentencepiece==0.2.0\n",
    "!pip install accelerate==0.31.0"
   ]
  },
  {
   "cell_type": "code",
   "execution_count": 50,
   "id": "3ac947de-effd-4b61-8792-a6d7a133f347",
   "metadata": {
    "ExecuteTime": {
     "end_time": "2024-07-02T07:15:42.369629Z",
     "start_time": "2024-07-02T07:15:41.064285Z"
    }
   },
   "outputs": [
    {
     "data": {
      "text/plain": [
       "<minsearch.Index at 0x24567af42f0>"
      ]
     },
     "execution_count": 50,
     "metadata": {},
     "output_type": "execute_result"
    }
   ],
   "source": [
    "import requests \n",
    "import minsearch\n",
    "\n",
    "docs_url = 'https://github.com/DataTalksClub/llm-zoomcamp/blob/main/01-intro/documents.json?raw=1'\n",
    "docs_response = requests.get(docs_url)\n",
    "documents_raw = docs_response.json()\n",
    "\n",
    "documents = []\n",
    "\n",
    "for course in documents_raw:\n",
    "    course_name = course['course']\n",
    "\n",
    "    for doc in course['documents']:\n",
    "        doc['course'] = course_name\n",
    "        documents.append(doc)\n",
    "\n",
    "index = minsearch.Index(\n",
    "    text_fields=[\"question\", \"text\", \"section\"],\n",
    "    keyword_fields=[\"course\"]\n",
    ")\n",
    "\n",
    "index.fit(documents)"
   ]
  },
  {
   "cell_type": "code",
   "execution_count": 51,
   "id": "8f087272-b44d-4738-9ea2-175ec63a058b",
   "metadata": {
    "ExecuteTime": {
     "end_time": "2024-07-02T07:15:46.323742Z",
     "start_time": "2024-07-02T07:15:46.313373Z"
    }
   },
   "outputs": [],
   "source": [
    "def search(query):\n",
    "    boost = {'question': 3.0, 'section': 0.5}\n",
    "\n",
    "    results = index.search(\n",
    "        query=query,\n",
    "        filter_dict={'course': 'data-engineering-zoomcamp'},\n",
    "        boost_dict=boost,\n",
    "        num_results=5\n",
    "    )\n",
    "\n",
    "    return results"
   ]
  },
  {
   "cell_type": "code",
   "execution_count": 52,
   "id": "091a77e6-936b-448e-a04b-bad1001f5bb0",
   "metadata": {
    "ExecuteTime": {
     "end_time": "2024-07-02T07:15:47.447083Z",
     "start_time": "2024-07-02T07:15:47.438157Z"
    }
   },
   "outputs": [],
   "source": [
    "from transformers import T5Tokenizer, T5ForConditionalGeneration"
   ]
  },
  {
   "cell_type": "code",
   "execution_count": 27,
   "id": "8ef4e479",
   "metadata": {
    "ExecuteTime": {
     "end_time": "2024-07-02T07:05:11.904962Z",
     "start_time": "2024-07-02T06:56:55.653046Z"
    }
   },
   "outputs": [
    {
     "data": {
      "application/vnd.jupyter.widget-view+json": {
       "model_id": "72d940edcfba4f299fb6b837393179b2",
       "version_major": 2,
       "version_minor": 0
      },
      "text/plain": [
       "tokenizer_config.json:   0%|          | 0.00/2.54k [00:00<?, ?B/s]"
      ]
     },
     "metadata": {},
     "output_type": "display_data"
    },
    {
     "name": "stderr",
     "output_type": "stream",
     "text": [
      "C:\\Users\\padma\\anaconda3\\envs\\llama\\Lib\\site-packages\\huggingface_hub\\file_download.py:157: UserWarning: `huggingface_hub` cache-system uses symlinks by default to efficiently store duplicated files but your machine does not support them in C:\\Users\\padma\\.cache\\huggingface\\hub\\models--google--flan-t5-large. Caching files will still work but in a degraded version that might require more space on your disk. This warning can be disabled by setting the `HF_HUB_DISABLE_SYMLINKS_WARNING` environment variable. For more details, see https://huggingface.co/docs/huggingface_hub/how-to-cache#limitations.\n",
      "To support symlinks on Windows, you either need to activate Developer Mode or to run Python as an administrator. In order to see activate developer mode, see this article: https://docs.microsoft.com/en-us/windows/apps/get-started/enable-your-device-for-development\n",
      "  warnings.warn(message)\n"
     ]
    },
    {
     "data": {
      "application/vnd.jupyter.widget-view+json": {
       "model_id": "deb117f05f6d44bb80da4533cba05bde",
       "version_major": 2,
       "version_minor": 0
      },
      "text/plain": [
       "spiece.model:   0%|          | 0.00/792k [00:00<?, ?B/s]"
      ]
     },
     "metadata": {},
     "output_type": "display_data"
    },
    {
     "data": {
      "application/vnd.jupyter.widget-view+json": {
       "model_id": "ffbea9fcf04741438cef848970ff9e81",
       "version_major": 2,
       "version_minor": 0
      },
      "text/plain": [
       "special_tokens_map.json:   0%|          | 0.00/2.20k [00:00<?, ?B/s]"
      ]
     },
     "metadata": {},
     "output_type": "display_data"
    },
    {
     "data": {
      "application/vnd.jupyter.widget-view+json": {
       "model_id": "b00d49f4309544739105f7cad32d1b33",
       "version_major": 2,
       "version_minor": 0
      },
      "text/plain": [
       "tokenizer.json:   0%|          | 0.00/2.42M [00:00<?, ?B/s]"
      ]
     },
     "metadata": {},
     "output_type": "display_data"
    },
    {
     "name": "stderr",
     "output_type": "stream",
     "text": [
      "Special tokens have been added in the vocabulary, make sure the associated word embeddings are fine-tuned or trained.\n"
     ]
    },
    {
     "data": {
      "application/vnd.jupyter.widget-view+json": {
       "model_id": "622c959822894ac8b058a47f99b28c1f",
       "version_major": 2,
       "version_minor": 0
      },
      "text/plain": [
       "config.json:   0%|          | 0.00/662 [00:00<?, ?B/s]"
      ]
     },
     "metadata": {},
     "output_type": "display_data"
    },
    {
     "data": {
      "application/vnd.jupyter.widget-view+json": {
       "model_id": "e6077e96c4f4451b98e6ae5e6f77105f",
       "version_major": 2,
       "version_minor": 0
      },
      "text/plain": [
       "model.safetensors:   0%|          | 0.00/3.13G [00:00<?, ?B/s]"
      ]
     },
     "metadata": {},
     "output_type": "display_data"
    },
    {
     "data": {
      "application/vnd.jupyter.widget-view+json": {
       "model_id": "14934598e4404ca383607b3387be179a",
       "version_major": 2,
       "version_minor": 0
      },
      "text/plain": [
       "generation_config.json:   0%|          | 0.00/147 [00:00<?, ?B/s]"
      ]
     },
     "metadata": {},
     "output_type": "display_data"
    }
   ],
   "source": [
    "tokenizer = T5Tokenizer.from_pretrained(\"google/flan-t5-large\")\n",
    "model = T5ForConditionalGeneration.from_pretrained(\"google/flan-t5-large\", device_map=\"auto\")"
   ]
  },
  {
   "cell_type": "code",
   "execution_count": 35,
   "id": "a5c8c36a",
   "metadata": {
    "ExecuteTime": {
     "end_time": "2024-07-02T07:08:37.760589Z",
     "start_time": "2024-07-02T07:08:37.750724Z"
    }
   },
   "outputs": [],
   "source": [
    "def build_prompt(query, search_results):\n",
    "    prompt_template = \"\"\"\n",
    "You're a course teaching assistant. Answer the QUESTION based on the CONTEXT from the FAQ database.\n",
    "Use only the facts from the CONTEXT when answering the QUESTION.\n",
    "\n",
    "QUESTION: {question}\n",
    "\n",
    "CONTEXT:\n",
    "{context}\n",
    "\"\"\".strip()\n",
    "\n",
    "    context = \"\"\n",
    "    \n",
    "    for doc in search_results:\n",
    "        context = context + f\"section: {doc['section']}\\nquestion: {doc['question']}\\nanswer: {doc['text']}\\n\\n\"\n",
    "    \n",
    "    prompt = prompt_template.format(question=query, context=context).strip()\n",
    "    return prompt\n",
    "\n",
    "def llm(prompt):\n",
    "    #input_ids = tokenizer(prompt, return_tensors=\"pt\").input_ids.to(\"cuda\")\n",
    "    input_ids = tokenizer(prompt, return_tensors=\"pt\").input_ids\n",
    "    outputs = model.generate(input_ids, )\n",
    "    result = tokenizer.decode(outputs[0])\n",
    "    return result"
   ]
  },
  {
   "cell_type": "code",
   "execution_count": 36,
   "id": "bcc3c46b",
   "metadata": {
    "ExecuteTime": {
     "end_time": "2024-07-02T07:08:38.473327Z",
     "start_time": "2024-07-02T07:08:38.457784Z"
    }
   },
   "outputs": [],
   "source": [
    "def llm(prompt, generate_params=None):\n",
    "    if generate_params is None:\n",
    "        generate_params = {}\n",
    "\n",
    "    #input_ids = tokenizer(prompt, return_tensors=\"pt\").input_ids.to(\"cuda\")\n",
    "    input_ids = tokenizer(prompt, return_tensors=\"pt\").input_ids\n",
    "    outputs = model.generate(\n",
    "        input_ids,\n",
    "        max_length=generate_params.get(\"max_length\", 100),\n",
    "        num_beams=generate_params.get(\"num_beams\", 5),\n",
    "        do_sample=generate_params.get(\"do_sample\", False),\n",
    "        temperature=generate_params.get(\"temperature\", 1.0),\n",
    "        top_k=generate_params.get(\"top_k\", 50),\n",
    "        top_p=generate_params.get(\"top_p\", 0.95),\n",
    "    )\n",
    "    result = tokenizer.decode(outputs[0], skip_special_tokens=True)\n",
    "    return result\n"
   ]
  },
  {
   "cell_type": "code",
   "execution_count": 54,
   "id": "13517598",
   "metadata": {
    "ExecuteTime": {
     "end_time": "2024-07-02T07:19:39.437324Z",
     "start_time": "2024-07-02T07:19:20.423195Z"
    }
   },
   "outputs": [
    {
     "name": "stderr",
     "output_type": "stream",
     "text": [
      "C:\\Users\\padma\\anaconda3\\envs\\llama\\Lib\\site-packages\\transformers\\generation\\configuration_utils.py:520: UserWarning: `do_sample` is set to `False`. However, `top_p` is set to `0.95` -- this flag is only used in sample-based generation modes. You should set `do_sample=True` or unset `top_p`.\n",
      "  warnings.warn(\n"
     ]
    },
    {
     "data": {
      "text/plain": [
       "'section: General course-related questions'"
      ]
     },
     "execution_count": 54,
     "metadata": {},
     "output_type": "execute_result"
    }
   ],
   "source": [
    "def rag(query):\n",
    "    search_results = search(query)\n",
    "    prompt = build_prompt(query, search_results)\n",
    "    answer = llm(prompt)\n",
    "    return answer\n",
    "\n",
    "rag(\"I just discovered the course. Can I still join it?\")"
   ]
  },
  {
   "cell_type": "code",
   "execution_count": 43,
   "id": "bb0d64f6",
   "metadata": {
    "ExecuteTime": {
     "end_time": "2024-07-02T07:12:50.072910Z",
     "start_time": "2024-07-02T07:12:49.218336Z"
    }
   },
   "outputs": [
    {
     "name": "stderr",
     "output_type": "stream",
     "text": [
      "C:\\Users\\padma\\anaconda3\\envs\\llama\\Lib\\site-packages\\transformers\\generation\\utils.py:1168: UserWarning: Using the model-agnostic default `max_length` (=20) to control the generation length. We recommend setting `max_new_tokens` to control the maximum length of the generation.\n",
      "  warnings.warn(\n"
     ]
    },
    {
     "data": {
      "text/plain": [
       "'<pad> Comment vieux êtes-vous?</s>'"
      ]
     },
     "execution_count": 43,
     "metadata": {},
     "output_type": "execute_result"
    }
   ],
   "source": [
    "def translate(input_text):\n",
    "    input_ids = tokenizer(input_text, return_tensors=\"pt\").input_ids\n",
    "    outputs = model.generate(input_ids)\n",
    "    return tokenizer.decode(outputs[0])\n",
    "    \n",
    "input_text = \"Translate the text to french: How old are you?\"\n",
    "translate(input_text)"
   ]
  },
  {
   "cell_type": "code",
   "execution_count": null,
   "id": "3b4a83a2",
   "metadata": {},
   "outputs": [],
   "source": []
  }
 ],
 "metadata": {
  "hide_input": false,
  "kernelspec": {
   "display_name": "Python 3 (ipykernel)",
   "language": "python",
   "name": "python3"
  },
  "language_info": {
   "codemirror_mode": {
    "name": "ipython",
    "version": 3
   },
   "file_extension": ".py",
   "mimetype": "text/x-python",
   "name": "python",
   "nbconvert_exporter": "python",
   "pygments_lexer": "ipython3",
   "version": "3.12.3"
  },
  "toc": {
   "base_numbering": 1,
   "nav_menu": {},
   "number_sections": true,
   "sideBar": true,
   "skip_h1_title": false,
   "title_cell": "Table of Contents",
   "title_sidebar": "Contents",
   "toc_cell": false,
   "toc_position": {},
   "toc_section_display": true,
   "toc_window_display": false
  }
 },
 "nbformat": 4,
 "nbformat_minor": 5
}
